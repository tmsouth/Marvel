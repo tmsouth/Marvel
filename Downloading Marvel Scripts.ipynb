{
 "cells": [
  {
   "cell_type": "markdown",
   "metadata": {},
   "source": [
    "# Setup:\n",
    "\n",
    "You can ignore pretty much all of this."
   ]
  },
  {
   "cell_type": "code",
   "execution_count": 1,
   "metadata": {
    "ExecuteTime": {
     "end_time": "2019-05-27T16:51:56.970434Z",
     "start_time": "2019-05-27T16:51:54.180853Z"
    }
   },
   "outputs": [],
   "source": [
    "\"\"\"\n",
    "Preable for most code and jupyter notebooks\n",
    "@author: tobinsouth\n",
    "\"\"\"\n",
    "\n",
    "import numpy as np, pandas as pd\n",
    "\n",
    "import math, string, nltk, re, pickle, time\n",
    "\n",
    "from nltk.tokenize import RegexpTokenizer\n",
    "\n",
    "%config InlineBackend.figure_formats = ['svg']\n",
    "%matplotlib inline\n",
    "import matplotlib.pyplot as plt\n",
    "\n",
    "from IPython.display import set_matplotlib_formats\n",
    "set_matplotlib_formats('pdf', 'svg')\n",
    "plt.rcParams['savefig.dpi'] = 150\n",
    "\n",
    "plt.rcParams['figure.autolayout'] = False\n",
    "plt.rcParams['figure.figsize'] = 10, 6\n",
    "plt.rcParams['axes.labelsize'] = 18\n",
    "plt.rcParams['axes.titlesize'] = 20\n",
    "plt.rcParams['font.size'] = 16\n",
    "plt.rcParams['lines.linewidth'] = 2.0\n",
    "plt.rcParams['lines.markersize'] = 8\n",
    "plt.rcParams['legend.fontsize'] = 14\n",
    "\n",
    "plt.rcParams['text.usetex'] = True\n",
    "plt.rcParams['font.family'] = \"serif\""
   ]
  },
  {
   "cell_type": "code",
   "execution_count": 2,
   "metadata": {
    "ExecuteTime": {
     "end_time": "2019-05-27T16:51:57.424425Z",
     "start_time": "2019-05-27T16:51:57.100982Z"
    }
   },
   "outputs": [
    {
     "name": "stderr",
     "output_type": "stream",
     "text": [
      "/anaconda3/lib/python3.6/site-packages/requests/__init__.py:91: RequestsDependencyWarning: urllib3 (1.23) or chardet (2.3.0) doesn't match a supported version!\n",
      "  RequestsDependencyWarning)\n"
     ]
    }
   ],
   "source": [
    "import requests\n",
    "from bs4 import BeautifulSoup\n",
    "from collections import Counter"
   ]
  },
  {
   "cell_type": "markdown",
   "metadata": {},
   "source": [
    "# Downloading"
   ]
  },
  {
   "cell_type": "markdown",
   "metadata": {
    "heading_collapsed": true
   },
   "source": [
    "## Getting a list of all marvel movie scripts"
   ]
  },
  {
   "cell_type": "code",
   "execution_count": 3,
   "metadata": {
    "ExecuteTime": {
     "end_time": "2019-05-22T11:04:39.550534Z",
     "start_time": "2019-05-22T11:04:39.542913Z"
    },
    "hidden": true
   },
   "outputs": [],
   "source": [
    "url_marvel = \"https://transcripts.fandom.com/wiki/Category:Marvel_Transcripts\""
   ]
  },
  {
   "cell_type": "code",
   "execution_count": 4,
   "metadata": {
    "ExecuteTime": {
     "end_time": "2019-05-22T11:04:39.836767Z",
     "start_time": "2019-05-22T11:04:39.569011Z"
    },
    "hidden": true
   },
   "outputs": [],
   "source": [
    "response = requests.get(url_marvel)"
   ]
  },
  {
   "cell_type": "code",
   "execution_count": 5,
   "metadata": {
    "ExecuteTime": {
     "end_time": "2019-05-22T11:04:40.075661Z",
     "start_time": "2019-05-22T11:04:39.863629Z"
    },
    "hidden": true
   },
   "outputs": [],
   "source": [
    "soup = BeautifulSoup(response.text, \"html.parser\")"
   ]
  },
  {
   "cell_type": "code",
   "execution_count": 6,
   "metadata": {
    "ExecuteTime": {
     "end_time": "2019-05-22T11:04:46.772976Z",
     "start_time": "2019-05-22T11:04:46.761183Z"
    },
    "hidden": true
   },
   "outputs": [],
   "source": [
    "url_endings = []\n",
    "for link in soup.select('.category-page__member-link'):\n",
    "    ending = link.get('href')\n",
    "    if \"Category\" not in ending:\n",
    "        url_endings.append(ending)"
   ]
  },
  {
   "cell_type": "markdown",
   "metadata": {},
   "source": [
    "## Scraping Infinity Saga Transcripts"
   ]
  },
  {
   "cell_type": "code",
   "execution_count": 3,
   "metadata": {
    "ExecuteTime": {
     "end_time": "2019-05-27T16:52:01.472152Z",
     "start_time": "2019-05-27T16:52:01.467335Z"
    }
   },
   "outputs": [],
   "source": [
    "normal_list = [ # Commented Code Requires Special Work\n",
    " '/wiki/Ant-Man',\n",
    "#  '/wiki/Ant-Man_and_the_Wasp',\n",
    "#  '/wiki/The_Avengers',\n",
    " '/wiki/Avengers:_Age_of_Ultron',\n",
    "#  '/wiki/Avengers:_Endgame',\n",
    " '/wiki/Avengers:_Infinity_War',\n",
    "#  '/wiki/Black_Panther',\n",
    " '/wiki/Captain_America:_Civil_War',\n",
    " '/wiki/Captain_America:_The_First_Avenger',\n",
    " '/wiki/Captain_America:_The_Winter_Soldier',\n",
    " '/wiki/Captain_Marvel_(2019)',\n",
    "#  '/wiki/Doctor_Strange',\n",
    " '/wiki/Guardians_of_the_Galaxy',\n",
    "#  '/wiki/Guardians_of_the_Galaxy_Vol._2',\n",
    " '/wiki/Spider-Man:_Homecoming',\n",
    "#  '/wiki/Iron_Man',\n",
    " '/wiki/Iron_Man_2',\n",
    "#  '/wiki/Iron_Man_3',\n",
    "#  '/wiki/The_Incredible_Hulk',\n",
    "#  '/wiki/Thor',\n",
    "#  '/wiki/Thor:_Ragnarok',\n",
    " '/wiki/Thor:_The_Dark_World',]\n",
    "\n",
    "gray_format = [\n",
    "     '/wiki/Thor',\n",
    "     '/wiki/Thor:_Ragnarok',\n",
    "]\n",
    "\n",
    "others = [\n",
    " '/wiki/The_Incredible_Hulk',\n",
    " '/wiki/Guardians_of_the_Galaxy_Vol._2',\n",
    " '/wiki/Iron_Man',\n",
    " '/wiki/Doctor_Strange',\n",
    " '/wiki/Black_Panther',\n",
    " '/wiki/Avengers:_Endgame',\n",
    "]"
   ]
  },
  {
   "cell_type": "markdown",
   "metadata": {},
   "source": [
    "# WHERE STUFF CHANGES::"
   ]
  },
  {
   "cell_type": "markdown",
   "metadata": {},
   "source": [
    "# Using \"Name: \" (The old method)"
   ]
  },
  {
   "cell_type": "markdown",
   "metadata": {},
   "source": [
    "This is the original method and still works for most of the movies. I'm made minor corrections later on but this hasn't changed."
   ]
  },
  {
   "cell_type": "code",
   "execution_count": 4,
   "metadata": {
    "ExecuteTime": {
     "end_time": "2019-05-27T16:52:05.227096Z",
     "start_time": "2019-05-27T16:52:05.219035Z"
    }
   },
   "outputs": [],
   "source": [
    "def get_char_seq(url):\n",
    "    \"\"\" \n",
    "    Function to scrape the speaker from transcipts on \n",
    "    https://transcripts.fandom.com/\n",
    "    Transcript have to have lines starting with a chacrter name followed by a ':'.\n",
    "    Does not work on some scripts.\n",
    "    @param url: The exact url of the transcript needing scraping.\n",
    "    \"\"\"\n",
    "    response = requests.get(url)\n",
    "\n",
    "    soup = BeautifulSoup(response.text, \"html.parser\")\n",
    "\n",
    "    body = soup.select('#mw-content-text')[0]\n",
    "    lines = body.text.split('\\n')\n",
    "\n",
    "    script_characters = []\n",
    "    for line in lines:\n",
    "        line = line.replace(u'\\xa0', u'') # Removes non-breaking spaces, which was causing issues\n",
    "        clean_line = re.sub(r\"\\[(.*)\\]\", \" \", line) # Remove [stuff] which is usual extra content\n",
    "        clean_line = re.sub(r\"\\((.*)\\)\", \" \", clean_line) # Remove (stuff)\n",
    "        start_matches = re.findall( \"^(.*?):\", clean_line) \n",
    "        \n",
    "        if len(start_matches) == 1: # This many deals with the case that there are no matches\n",
    "            finding = start_matches[0]\n",
    "            finding = finding.lower()\n",
    "            finding = finding.lstrip().rstrip() # This is an alternative if you dont wnt to remove all spaces\n",
    "#             finding = ''.join([i for i in finding if i.isalpha()])\n",
    "            if len(finding) < 21 and len(finding)!=0:\n",
    "                script_characters.append(finding)\n",
    "            \n",
    "    script_characters = script_characters[2:] # Remove 'Next Transcript' and 'Previous Transcript'\n",
    "    \n",
    "    return script_characters"
   ]
  },
  {
   "cell_type": "markdown",
   "metadata": {},
   "source": [
    "Running function on the 'normal list'"
   ]
  },
  {
   "cell_type": "code",
   "execution_count": 5,
   "metadata": {
    "ExecuteTime": {
     "end_time": "2019-05-27T16:52:10.428224Z",
     "start_time": "2019-05-27T16:52:07.267235Z"
    }
   },
   "outputs": [],
   "source": [
    "counts = {} # Stores a list of tuples with (name, amount of lines)\n",
    "seqs = {} # Stores the sequence of script allocations in order\n",
    "for url in normal_list:\n",
    "    long_url = \"https://transcripts.fandom.com/\"+url\n",
    "    seq = get_char_seq(long_url)\n",
    "    counts[url] = (Counter(seq).most_common())\n",
    "    seqs[url[6:]] =  seq"
   ]
  },
  {
   "cell_type": "markdown",
   "metadata": {},
   "source": [
    "# Now things get different.\n",
    "\n",
    "# 'Gray Box' Scripts"
   ]
  },
  {
   "cell_type": "markdown",
   "metadata": {},
   "source": [
    "Some scripts are in a different but standard format where all the text is surrounded by gray boxes. This is scraped for two Thor movies below."
   ]
  },
  {
   "cell_type": "markdown",
   "metadata": {},
   "source": [
    "## Thor 1"
   ]
  },
  {
   "cell_type": "markdown",
   "metadata": {},
   "source": [
    "Url to demonstrate style:\n",
    "https://transcripts.fandom.com/wiki/Thor"
   ]
  },
  {
   "cell_type": "code",
   "execution_count": 6,
   "metadata": {
    "ExecuteTime": {
     "end_time": "2019-05-27T16:52:12.200103Z",
     "start_time": "2019-05-27T16:52:12.196764Z"
    }
   },
   "outputs": [],
   "source": [
    "url = \"https://transcripts.fandom.com/wiki/Thor\""
   ]
  },
  {
   "cell_type": "code",
   "execution_count": 7,
   "metadata": {
    "ExecuteTime": {
     "end_time": "2019-05-27T16:52:13.771564Z",
     "start_time": "2019-05-27T16:52:13.384436Z"
    }
   },
   "outputs": [],
   "source": [
    "response = requests.get(url)\n",
    "\n",
    "soup = BeautifulSoup(response.text, \"html.parser\")\n",
    "\n",
    "body = soup.select('pre')\n",
    "\n",
    "# Get the first line of each gray box\n",
    "first_lines = [gray_bit.text.split('\\n')[0] for gray_bit in body]\n",
    "\n",
    "# Keep only lines that have the word at the center (based on format)\n",
    "centred_lines = [line  for line in first_lines if line[0:24] == \"                        \"] \n",
    "\n",
    "remove_brackets = [re.sub(r\"\\((.*)\\)\", \" \", line).lstrip()  for line in centred_lines]\n",
    "\n",
    "# Remove location lines that have '-' in them.\n",
    "clean_lines = [line for line in remove_brackets if line != '' and '-' not in line]\n",
    "\n",
    "# Clean up text\n",
    "thor_seqence = [''.join([i for i in name if i.isalpha()]) for name in clean_lines]\n",
    "\n",
    "seqs['Thor'] = thor_seqence"
   ]
  },
  {
   "cell_type": "markdown",
   "metadata": {},
   "source": [
    "## Ragnarok"
   ]
  },
  {
   "cell_type": "markdown",
   "metadata": {
    "ExecuteTime": {
     "end_time": "2019-05-27T12:59:10.123606Z",
     "start_time": "2019-05-27T12:59:10.117677Z"
    }
   },
   "source": [
    "Url: https://transcripts.fandom.com/wiki/Thor:_Ragnarok"
   ]
  },
  {
   "cell_type": "code",
   "execution_count": 8,
   "metadata": {
    "ExecuteTime": {
     "end_time": "2019-05-27T16:52:15.988556Z",
     "start_time": "2019-05-27T16:52:15.703089Z"
    }
   },
   "outputs": [],
   "source": [
    "url = \"https://transcripts.fandom.com/wiki/Thor:_Ragnarok\"\n",
    "\n",
    "response = requests.get(url)\n",
    "\n",
    "soup = BeautifulSoup(response.text, \"html.parser\")\n",
    "\n",
    "body = soup.select('pre')\n",
    "\n",
    "# Get the first line of each gray box\n",
    "first_lines = [gray_bit.text.split('\\n')[0] for gray_bit in body]\n",
    "\n",
    "# Find lines that have mostly spaces as there indicate the was something placed at the centre. \n",
    "attempted_center = [line for line in first_lines if line.count(' ') / len(line) > 0.50]\n",
    "\n",
    "# Removing the lines that said 'DRAFT' as these looked like attributions but were not\n",
    "no_drafts = [line for line in attempted_center if 'DRAFT' not in line and 'OMITTED' not in line]\n",
    "\n",
    "# Remove brackets and long spaces on either side of text\n",
    "clean_lines = [re.sub(r\"\\((.*)\\)\", \" \", line).lstrip().rstrip() for line in no_drafts]\n",
    "\n",
    "# Clean up text\n",
    "ragnarok_seqence = [''.join([i for i in name if i.isalpha()]) for name in clean_lines]\n",
    "\n",
    "seqs['Thor:_Ragnarok'] = ragnarok_seqence"
   ]
  },
  {
   "cell_type": "markdown",
   "metadata": {},
   "source": [
    "# Getting Weirder"
   ]
  },
  {
   "cell_type": "markdown",
   "metadata": {},
   "source": [
    "We have 6 movies left. Iron Man, Black Panther, Avengers, Doctor Strange, Ant-Man_and_the_Wasp, Guardians of the Galaxy Vol 2.\n",
    "\n",
    "All of these have weird formatting on the fandom. For example they will start out as expected but break as you get further in. Have a look to understand.\n",
    "\n",
    "https://transcripts.fandom.com//wiki/Guardians_of_the_Galaxy_Vol._2\n",
    "\n",
    "https://transcripts.fandom.com//wiki/Doctor_Strange\n",
    "\n",
    "https://transcripts.fandom.com//wiki/Ant-Man_and_the_Wasp\n",
    "\n",
    "\n",
    "------\n",
    "I've found actual script for some movies from:\n",
    "    www.scriptslug.com/\n",
    "\n",
    "Guardians of the Galaxy Vol 2, Black Panther and Avengers have downloaded script at '../Data/ActualScripts/'\n",
    "\n",
    "----\n",
    "\n",
    "## So to summarise the remaining issues\n",
    "\n",
    "Iron Man has no good data:\n",
    "    https://transcripts.fandom.com//wiki/Iron_Man\n",
    "  \n",
    "Doctor Strange has no good data:\n",
    "    https://transcripts.fandom.com//wiki/Doctor_Strange\n",
    "    \n",
    "The Incredible Hulk has no good data at:\n",
    "    https://transcripts.fandom.com/wiki/The_Incredible_Hulk\n",
    "**BUT** I have managed to download an actual copy of the script but I'm still working on it.\n",
    " \n",
    "\n",
    "Iron Man 3 is actually an incomplete script:\n",
    "    https://transcripts.fandom.com//wiki/Iron_Man_3\n",
    "    \n",
    "Ant Man and the Wasp is incomplete.\n",
    "    https://transcripts.fandom.com//wiki/Ant-Man_and_the_Wasp\n"
   ]
  },
  {
   "cell_type": "markdown",
   "metadata": {},
   "source": [
    "# PDF Processing\n",
    "-----\n",
    "-----\n",
    "Using the package `textract` to process pdf text\n",
    "    \n",
    "Non-trivial installation:\n",
    "https://textract.readthedocs.io/en/latest/installation.html"
   ]
  },
  {
   "cell_type": "code",
   "execution_count": 9,
   "metadata": {
    "ExecuteTime": {
     "end_time": "2019-05-27T16:52:22.499139Z",
     "start_time": "2019-05-27T16:52:22.491054Z"
    }
   },
   "outputs": [],
   "source": [
    "import textract"
   ]
  },
  {
   "cell_type": "markdown",
   "metadata": {
    "ExecuteTime": {
     "end_time": "2019-05-27T13:54:48.632673Z",
     "start_time": "2019-05-27T13:54:47.667000Z"
    }
   },
   "source": [
    "## GUARDIANS OF THE GALAXY VOL. 2"
   ]
  },
  {
   "cell_type": "code",
   "execution_count": 11,
   "metadata": {
    "ExecuteTime": {
     "end_time": "2019-05-27T16:52:37.356527Z",
     "start_time": "2019-05-27T16:52:35.885076Z"
    }
   },
   "outputs": [],
   "source": [
    "text = textract.process(\"../Data/ActualScripts/guardians-of-the-galaxy-vol-2-2017.pdf\")\n",
    "text = text.decode(\"utf-8\") \n",
    "remove_brackets = [re.sub(r\"\\((.*)\\)\", \" \", line) for line in text.split('\\n')]\n",
    "best_guess = []\n",
    "for i, line in enumerate(remove_brackets):\n",
    "    if line.isupper():\n",
    "        if not remove_brackets[i+1].isupper():\n",
    "            best_guess.append(line)\n",
    "no_other_char = [line.lstrip().rstrip() for line in best_guess if '-' not in line and '.' not in line and '!' not in line]\n",
    "only_short = [line for line in no_other_char if len(line) < 20]\n",
    "remove_end = only_short[2:-1]"
   ]
  },
  {
   "cell_type": "code",
   "execution_count": 12,
   "metadata": {
    "ExecuteTime": {
     "end_time": "2019-05-27T16:52:38.104058Z",
     "start_time": "2019-05-27T16:52:38.100046Z"
    }
   },
   "outputs": [],
   "source": [
    "seqs['Guardians_of_the_Galaxy_Vol._2'] = remove_end"
   ]
  },
  {
   "cell_type": "markdown",
   "metadata": {},
   "source": [
    "# The Avengers\n"
   ]
  },
  {
   "cell_type": "markdown",
   "metadata": {},
   "source": [
    "https://transcripts.fandom.com//wiki/The_Avengers"
   ]
  },
  {
   "cell_type": "code",
   "execution_count": 23,
   "metadata": {
    "ExecuteTime": {
     "end_time": "2019-05-27T16:54:37.369406Z",
     "start_time": "2019-05-27T16:54:36.140539Z"
    }
   },
   "outputs": [],
   "source": [
    "text = textract.process(\"../Data/ActualScripts/the-avengers-2012.pdf\")\n",
    "text = text.decode(\"utf-8\") \n",
    "remove_brackets = [re.sub(r\"\\((.*)\\)\", \" \", line) for line in text.split('\\n')]\n",
    "remove_empty_lines = [line for line in remove_brackets if line.rstrip() != '']"
   ]
  },
  {
   "cell_type": "code",
   "execution_count": 24,
   "metadata": {
    "ExecuteTime": {
     "end_time": "2019-05-27T16:54:37.842990Z",
     "start_time": "2019-05-27T16:54:37.837291Z"
    }
   },
   "outputs": [],
   "source": [
    "best_guess = []\n",
    "for i, line in enumerate(remove_empty_lines):\n",
    "    if line.isupper():\n",
    "        if not remove_brackets[i+1].isupper():\n",
    "            best_guess.append(line)"
   ]
  },
  {
   "cell_type": "code",
   "execution_count": 25,
   "metadata": {
    "ExecuteTime": {
     "end_time": "2019-05-27T16:54:38.220207Z",
     "start_time": "2019-05-27T16:54:38.211009Z"
    }
   },
   "outputs": [],
   "source": [
    "no_other_char = [line.lstrip().rstrip() for line in best_guess \n",
    "                 if '-' not in line and '.' not in line and \n",
    "                 '!' not in line and ':' not in line and\n",
    "                ';' not in line]\n",
    "only_short = [line for line in no_other_char if len(line) < 20]"
   ]
  },
  {
   "cell_type": "code",
   "execution_count": 26,
   "metadata": {
    "ExecuteTime": {
     "end_time": "2019-05-27T16:54:38.823707Z",
     "start_time": "2019-05-27T16:54:38.820440Z"
    }
   },
   "outputs": [],
   "source": [
    "final_lines = only_short"
   ]
  },
  {
   "cell_type": "code",
   "execution_count": 27,
   "metadata": {
    "ExecuteTime": {
     "end_time": "2019-05-27T16:54:39.433252Z",
     "start_time": "2019-05-27T16:54:39.429927Z"
    }
   },
   "outputs": [],
   "source": [
    "seqs['The_Avengers'] = final_lines"
   ]
  },
  {
   "cell_type": "markdown",
   "metadata": {},
   "source": [
    "## Black Panther"
   ]
  },
  {
   "cell_type": "markdown",
   "metadata": {},
   "source": [
    "https://transcripts.fandom.com//wiki/Black_Panther"
   ]
  },
  {
   "cell_type": "code",
   "execution_count": 77,
   "metadata": {
    "ExecuteTime": {
     "end_time": "2019-05-27T17:05:08.723090Z",
     "start_time": "2019-05-27T17:05:07.366358Z"
    }
   },
   "outputs": [],
   "source": [
    "text = textract.process(\"../Data/ActualScripts/black-panther-2018.pdf\")\n",
    "text = text.decode(\"utf-8\") "
   ]
  },
  {
   "cell_type": "code",
   "execution_count": 78,
   "metadata": {
    "ExecuteTime": {
     "end_time": "2019-05-27T17:05:09.420199Z",
     "start_time": "2019-05-27T17:05:09.401529Z"
    }
   },
   "outputs": [],
   "source": [
    "remove_brackets = [re.sub(r\"\\((.*)\\)\", \" \", line) for line in text.split('\\n')]\n",
    "remove_empty_lines = [line for line in remove_brackets if line.rstrip() != '']"
   ]
  },
  {
   "cell_type": "code",
   "execution_count": 79,
   "metadata": {
    "ExecuteTime": {
     "end_time": "2019-05-27T17:05:09.861142Z",
     "start_time": "2019-05-27T17:05:09.854214Z"
    }
   },
   "outputs": [],
   "source": [
    "best_guess = []\n",
    "for i, line in enumerate(remove_empty_lines):\n",
    "    if line.isupper():\n",
    "        if not remove_brackets[i+1].isupper():\n",
    "            best_guess.append(line)\n",
    "            \n",
    "no_other_char = [line.lstrip().rstrip() for line in best_guess if '-' not in line and '.' not in line and '!' not in line]\n",
    "only_short = [line for line in no_other_char if len(line) < 20]\n"
   ]
  },
  {
   "cell_type": "markdown",
   "metadata": {},
   "source": [
    "Making a decision to only keep strings that have been used more than once. "
   ]
  },
  {
   "cell_type": "code",
   "execution_count": 80,
   "metadata": {
    "ExecuteTime": {
     "end_time": "2019-05-27T17:05:10.294100Z",
     "start_time": "2019-05-27T17:05:10.288784Z"
    }
   },
   "outputs": [],
   "source": [
    "def simple_string(s):\n",
    "    return ''.join([i for i in s if i.isalpha()])"
   ]
  },
  {
   "cell_type": "code",
   "execution_count": 81,
   "metadata": {
    "ExecuteTime": {
     "end_time": "2019-05-27T17:05:10.735545Z",
     "start_time": "2019-05-27T17:05:10.730671Z"
    }
   },
   "outputs": [],
   "source": [
    "counts_dict = Counter([simple_string(s) for s in only_short])"
   ]
  },
  {
   "cell_type": "code",
   "execution_count": 82,
   "metadata": {
    "ExecuteTime": {
     "end_time": "2019-05-27T17:05:11.176952Z",
     "start_time": "2019-05-27T17:05:11.167728Z"
    },
    "scrolled": false
   },
   "outputs": [
    {
     "data": {
      "text/plain": [
       "[('CHILDREN', 1),\n",
       " ('TAG', 1),\n",
       " ('FRENCHAMBASSADOR', 1),\n",
       " ('AFRENCHAMBASSADOR', 1),\n",
       " ('CUTTOTITLE', 1),\n",
       " ('SIXKIDS', 1),\n",
       " ('BROKEN', 1),\n",
       " ('GIOT', 1),\n",
       " ('AMASSIVE', 1),\n",
       " ('SHURIS', 1),\n",
       " ('SPEAR', 1),\n",
       " ('SHURINAKIA', 1),\n",
       " ('DORA', 1),\n",
       " ('ARMORED', 1),\n",
       " ('BORDERTRIBE', 1),\n",
       " ('OFTHEJABARIARMY', 1),\n",
       " ('NJOBUSJOURNAL', 1),\n",
       " ('INTHESTANDS', 1),\n",
       " ('BLADE', 1),\n",
       " ('ONSHURI', 1),\n",
       " ('INTHESEATINGAREA', 1),\n",
       " ('SHURISPROJECTION', 1),\n",
       " ('SEVERALAFRICAN', 1),\n",
       " ('ABANDONED', 1),\n",
       " ('AFTERNOON', 1)]"
      ]
     },
     "execution_count": 82,
     "metadata": {},
     "output_type": "execute_result"
    }
   ],
   "source": [
    "counts_dict.most_common()[::-1][0:25]"
   ]
  },
  {
   "cell_type": "code",
   "execution_count": 83,
   "metadata": {
    "ExecuteTime": {
     "end_time": "2019-05-27T17:05:16.200366Z",
     "start_time": "2019-05-27T17:05:16.192905Z"
    }
   },
   "outputs": [],
   "source": [
    "final_lines = [line for line in only_short if counts_dict[simple_string(line)]>1]"
   ]
  },
  {
   "cell_type": "code",
   "execution_count": 86,
   "metadata": {
    "ExecuteTime": {
     "end_time": "2019-05-27T17:06:13.045331Z",
     "start_time": "2019-05-27T17:06:13.032302Z"
    }
   },
   "outputs": [
    {
     "data": {
      "text/plain": [
       "['BLACKPANTHER',\n",
       " 'SON',\n",
       " 'FATHER',\n",
       " 'SON',\n",
       " 'FATHER',\n",
       " 'SON',\n",
       " 'FATHER',\n",
       " 'FATHER',\n",
       " 'FATHER',\n",
       " 'FATHER',\n",
       " 'FATHER',\n",
       " 'SON',\n",
       " 'FATHER',\n",
       " 'SON',\n",
       " \"N'JOBU\",\n",
       " 'JAMES',\n",
       " \"N'JOBU\",\n",
       " 'JAMES',\n",
       " \"N'JOBU\",\n",
       " 'JAMES',\n",
       " \"N'JOBU\",\n",
       " 'DORAMILAJE 1',\n",
       " \"N'JOBU\",\n",
       " 'DORAMILAJE 1',\n",
       " \"N'JOBU\",\n",
       " \"YOUNG T'CHAKA\",\n",
       " \"N'JOBU\",\n",
       " \"YOUNGT ' CHAKA\",\n",
       " \"N'JOBU\",\n",
       " \"YOUNGT'CHAKA\",\n",
       " \"YOUNGT'CHAKA\",\n",
       " \"YOUNGT'CHAKA\",\n",
       " \"N'JOBU\",\n",
       " \"YOUNGT'CHAKA\",\n",
       " \"N' JOBU\",\n",
       " \"YOUNGT' CHAKA\",\n",
       " 'JAMES',\n",
       " \"N'JOBU\",\n",
       " \"N'JOBU\",\n",
       " 'JAMES',\n",
       " \"N'JOBU\",\n",
       " \"YOUNGT'CHAKA\",\n",
       " \"YOUNGT'CHAKA\",\n",
       " 'OKOYE',\n",
       " \"T'CHALLA\",\n",
       " 'OKOYE',\n",
       " \"T'CHALLA\",\n",
       " 'MILITANT LEADER',\n",
       " 'MILITANT LEADER',\n",
       " 'MILITANT LEADER',\n",
       " 'NAKIA',\n",
       " \"T'CHALLA\",\n",
       " 'OKOYE',\n",
       " 'NAKIA',\n",
       " \"T'CHALLA\",\n",
       " \"T'CHALLA\",\n",
       " 'NAKIA',\n",
       " 'OKOYE',\n",
       " 'OKOYE',\n",
       " \"T'CHALLA\",\n",
       " 'NAKIA',\n",
       " 'RAMONDA',\n",
       " 'OKOYE',\n",
       " 'AYO',\n",
       " 'OKOYE',\n",
       " \"T' CHALLA\",\n",
       " \"T'CHALLA\",\n",
       " \"T'CHALLA\",\n",
       " \"T' CHALLA\",\n",
       " \"T'CHALLA\",\n",
       " 'RAMONDA',\n",
       " \"T'CHALLA\",\n",
       " 'RAMONDA',\n",
       " 'MUSEUMDIRECTOR',\n",
       " 'KILLMONGER',\n",
       " 'MUSEUMDIRECTOR',\n",
       " 'KILLMON',\n",
       " 'GER',\n",
       " 'KILLMONGER',\n",
       " 'MUSEUMDIRECTOR',\n",
       " 'KILLMON',\n",
       " 'GER',\n",
       " 'MUSEUMDIRECTOR',\n",
       " 'KILLMONGER',\n",
       " 'MUSEUMDIRECTOR',\n",
       " 'KILLMONGER',\n",
       " 'KILLMONGER',\n",
       " 'MUSEUMDIRECTOR',\n",
       " 'KILLMONGER',\n",
       " 'MUSEUMDIRECTOR',\n",
       " 'KILLMONGER',\n",
       " 'SECURITY GUARD',\n",
       " 'KILLMON',\n",
       " 'KILLMONGER',\n",
       " 'SECURITY GUARD',\n",
       " 'LINDA',\n",
       " 'LATER',\n",
       " 'KLAUE',\n",
       " 'LIMBANI',\n",
       " 'KLAUE',\n",
       " 'KILLMONGER',\n",
       " 'KLAUE',\n",
       " 'KLAUE',\n",
       " 'KLAUE',\n",
       " 'KLAUE',\n",
       " 'KILLMON',\n",
       " 'GER',\n",
       " 'KLAUE',\n",
       " 'KILLMONGER',\n",
       " 'KLAUE',\n",
       " 'KILLMONGER',\n",
       " 'LATER',\n",
       " 'WAKANDAN',\n",
       " 'CROWD',\n",
       " 'ZURI',\n",
       " 'ZURI',\n",
       " 'ZURI',\n",
       " 'CROWD',\n",
       " 'ZURI',\n",
       " 'MERCHANT',\n",
       " 'TRIBE ELDER',\n",
       " 'BORDERTRIBE ELDER',\n",
       " 'RIVER TRIBE ELDER',\n",
       " 'ZURI',\n",
       " 'BACK IN THE POOL',\n",
       " 'SHURI',\n",
       " 'RAMONDA',\n",
       " 'BACKIN THE POOL',\n",
       " 'ZURI',\n",
       " \"M'BAKU\",\n",
       " \"M'BAKU\",\n",
       " \"M'BAKU\",\n",
       " \"T'CHALLA\",\n",
       " \"M'BAKU\",\n",
       " 'ZURI',\n",
       " \"M'BAKU\",\n",
       " \"M'BAKU\",\n",
       " 'RAMONDA',\n",
       " \"T'CHALLA\",\n",
       " \"T'CHALLA\",\n",
       " \"M'BAKU\",\n",
       " \"T'CHALLA\",\n",
       " \"T'CHALLA\",\n",
       " \"T'CHALLA\",\n",
       " 'ZURI',\n",
       " \"T'CHALLA\",\n",
       " 'ZURI',\n",
       " \"T'CHALLA\",\n",
       " 'ZURI',\n",
       " 'ZURI',\n",
       " \"T'CHALLA\",\n",
       " \"T'CHAKA\",\n",
       " \"T'CHALLA\",\n",
       " \"T'CHAKA\",\n",
       " \"T'CHAKA\",\n",
       " \"T'CHALLA\",\n",
       " \"T'CHAKA\",\n",
       " \"T'CHALLA\",\n",
       " \"T'CHAKA\",\n",
       " \"T'CHALLA\",\n",
       " \"T'CHAKA\",\n",
       " 'ZURI',\n",
       " \"T'CHALLA\",\n",
       " \"T'CHALLA\",\n",
       " 'NAKIA',\n",
       " \"T'CHALLA\",\n",
       " 'NAKIA',\n",
       " \"T'CHALLA\",\n",
       " 'NAKIA',\n",
       " \"T' CHALLA\",\n",
       " 'NAKIA',\n",
       " 'NAKIA',\n",
       " \"T' CHALLA\",\n",
       " 'NAKIA',\n",
       " \"T'CHALLA\",\n",
       " \"W'KABI\",\n",
       " \"W'KABI\",\n",
       " \"W'KABI\",\n",
       " \"T'CHALLA\",\n",
       " \"T'CHALLA\",\n",
       " \"W'KABI\",\n",
       " \"W'KABI\",\n",
       " \"T' CHALLA\",\n",
       " 'OKOYE',\n",
       " \"T'CHALLA\",\n",
       " 'MERCHANT',\n",
       " 'TRIBE ELDER',\n",
       " \"W'KABI\",\n",
       " 'OKOYE',\n",
       " \"W'KABI\",\n",
       " \"T'CHALLA\",\n",
       " \"W'KABI\",\n",
       " 'WAKANDAN',\n",
       " \"T'CHALLA\",\n",
       " \"T'CHALLA\",\n",
       " 'SHURI',\n",
       " 'SHURI',\n",
       " 'SHURI',\n",
       " 'SHURI',\n",
       " \"T'CHALLA\",\n",
       " 'SHURI',\n",
       " 'SHURI',\n",
       " \"T'CHALLA\",\n",
       " 'SHURI',\n",
       " 'SHURI',\n",
       " 'SHURI',\n",
       " 'SHURI',\n",
       " 'SHURI',\n",
       " \"T'CHALLA\",\n",
       " \"T'CHALLA\",\n",
       " \"T'CHALLA\",\n",
       " \"T'CHALLA\",\n",
       " \"T'CHALLA\",\n",
       " \"T'CHALLA\",\n",
       " 'SHURI',\n",
       " 'SHURI',\n",
       " \"T'CHALLA\",\n",
       " \"T'CHALLA\",\n",
       " 'OKOYE',\n",
       " 'ELDERLYWOMAN',\n",
       " 'ELDERLYWOMAN',\n",
       " \"T' CHALLA\",\n",
       " \"T'CHALLA\",\n",
       " 'NAKIA',\n",
       " \"T' CHALLA\",\n",
       " 'NAKIA',\n",
       " 'OKOYE',\n",
       " 'ON OKOYE',\n",
       " 'OKOYE',\n",
       " 'NAKIA',\n",
       " 'NAKIA',\n",
       " 'OKOYE',\n",
       " \"T'CHALLA\",\n",
       " \"T'CHALLA\",\n",
       " 'ROSS',\n",
       " \"T'CHALLA\",\n",
       " 'ROSS',\n",
       " \"T'CHALLA\",\n",
       " 'ROSS',\n",
       " 'ROSS',\n",
       " \"T' CHALLA\",\n",
       " 'ROSS',\n",
       " 'ROSS',\n",
       " 'ROSS',\n",
       " \"T'CHALLA\",\n",
       " 'NAKIA',\n",
       " \"T' CHALLA\",\n",
       " 'OKOYE',\n",
       " \"T'CHALLA\",\n",
       " 'ON NAKIA',\n",
       " 'NAKIA',\n",
       " 'ON OKOYE',\n",
       " 'OKOYE',\n",
       " 'NAKIA',\n",
       " 'OKOYE',\n",
       " 'ROSS',\n",
       " 'KLAUE',\n",
       " 'KLAUE',\n",
       " 'KLAUE',\n",
       " 'ROSS',\n",
       " 'KLAUE',\n",
       " 'KLAUE',\n",
       " 'NAKIA',\n",
       " 'KLAUE',\n",
       " 'ROSS',\n",
       " 'ON NAKIA',\n",
       " \"T'CHALLA\",\n",
       " 'ROSS',\n",
       " 'KLAUE',\n",
       " 'ON NAKIA',\n",
       " 'NAKIA',\n",
       " 'ON OKOYE',\n",
       " 'OKOYE',\n",
       " 'ON OKOYE',\n",
       " 'SOUTHAFRICAN TOUGH',\n",
       " 'SOUTHAFRICAN TOUGH',\n",
       " 'OKOYE',\n",
       " 'KLAUE',\n",
       " 'ON OKOYE',\n",
       " \"T'CHALLA\",\n",
       " 'KLAUE',\n",
       " 'KLAUE',\n",
       " 'NAKIA',\n",
       " 'OKOYE',\n",
       " \"T'CHALLA\",\n",
       " 'GRIOT',\n",
       " 'SHURI',\n",
       " \"T'CHALLA\",\n",
       " 'SHURI',\n",
       " 'KLAUE',\n",
       " 'NAKIA',\n",
       " 'KLAUE',\n",
       " 'OKOYE',\n",
       " 'SHURI',\n",
       " 'SHURI',\n",
       " \"T'CHALLA\",\n",
       " 'SHURI',\n",
       " 'SHURI',\n",
       " \"T'CHALLA\",\n",
       " 'OKOYE',\n",
       " 'KLAUE',\n",
       " 'NAKIA',\n",
       " 'OKOYE',\n",
       " 'NAKIA',\n",
       " 'NAKIA',\n",
       " 'KLAUE',\n",
       " 'SHURI',\n",
       " \"T'CHALLA\",\n",
       " 'NAKIA',\n",
       " 'KLAUE',\n",
       " 'ON OKOYE',\n",
       " 'ON NAKIA',\n",
       " 'ROSS',\n",
       " \"T'CHALLA\",\n",
       " 'SHURI',\n",
       " \"T'CHALLA\",\n",
       " \"T'CHALLA\",\n",
       " \"T'CHALLA\",\n",
       " 'KLAUE',\n",
       " 'KLAUE',\n",
       " \"T' CHALLA\",\n",
       " 'OKOYE',\n",
       " 'NAKIA',\n",
       " 'ROSS',\n",
       " 'KLAUE',\n",
       " 'ROSS',\n",
       " 'OKOYE',\n",
       " \"T'CHALLA\",\n",
       " \"T'CHALLA\",\n",
       " 'ROSS',\n",
       " 'OKOYE',\n",
       " 'ROSS',\n",
       " \"T'CHALLA\",\n",
       " 'ROSS',\n",
       " \"T'CHALLA\",\n",
       " 'ROSS',\n",
       " \"T'CHALLA\",\n",
       " 'OKOYE',\n",
       " 'ROSS',\n",
       " 'KLAUE',\n",
       " 'ROSS',\n",
       " 'KLAUE',\n",
       " 'ROSS',\n",
       " 'KLAUE',\n",
       " 'KLAUE',\n",
       " 'ROSS',\n",
       " 'KLAUE',\n",
       " 'ROSS',\n",
       " 'KLAUE',\n",
       " 'ROSS',\n",
       " 'KLAUE',\n",
       " 'KLAUE',\n",
       " 'KLAUE',\n",
       " 'KLAUE',\n",
       " \"T'CHALLA\",\n",
       " 'NAKIA',\n",
       " 'ROSS',\n",
       " 'NAKIA',\n",
       " 'KLAUE',\n",
       " 'OKOYE',\n",
       " 'OKOYE',\n",
       " 'NAKIA',\n",
       " 'NAKIA',\n",
       " \"T'CHALLA\",\n",
       " \"T'CHALLA\",\n",
       " \"T'CHALLA\",\n",
       " 'OKOYE',\n",
       " 'NAKIA',\n",
       " 'OKOYE',\n",
       " 'NAKIA',\n",
       " 'OKOYE',\n",
       " \"T'CHALLA\",\n",
       " 'SHURI',\n",
       " 'SHURI',\n",
       " 'SHURI',\n",
       " \"W'KABI\",\n",
       " \"T'CHALLA\",\n",
       " \"T'CHALLA\",\n",
       " \"W' KABI\",\n",
       " 'LIMBANI',\n",
       " 'KILLMONGER',\n",
       " 'KLAUE',\n",
       " 'KILLMONGER',\n",
       " 'KILLMONGER',\n",
       " 'KLAUE',\n",
       " 'KILLMONGER',\n",
       " 'KLAUE',\n",
       " 'LINDA',\n",
       " 'KILLMONGER',\n",
       " 'KLAUE',\n",
       " 'KLAUE',\n",
       " 'KILLMON',\n",
       " 'GER',\n",
       " 'KILLMONGER',\n",
       " 'KLAUE',\n",
       " 'KLAUE',\n",
       " \"T ' CHALLA\",\n",
       " 'ZURI',\n",
       " \"T'CHALLA\",\n",
       " 'ZURI',\n",
       " 'ZURI',\n",
       " \"T'CHALLA\",\n",
       " 'ZURI',\n",
       " \"T'CHALLA\",\n",
       " 'ZURI',\n",
       " \"N'JOBU\",\n",
       " 'ZURI',\n",
       " \"T'CHALLA\",\n",
       " 'ZURI',\n",
       " \"T'CHALLA\",\n",
       " \"YOUNGT'CHAKA\",\n",
       " 'ZURI',\n",
       " 'ZURI',\n",
       " 'ZURI',\n",
       " \"YOUNGT'CHAKA\",\n",
       " \"T'CHALLA\",\n",
       " 'ZURI',\n",
       " 'ZURI',\n",
       " \"W'KABI\",\n",
       " 'KILLMONGER',\n",
       " \"W'KABI\",\n",
       " 'ROSS',\n",
       " 'SHURI',\n",
       " 'ROSS',\n",
       " 'SHURI',\n",
       " 'ROSS',\n",
       " 'ROSS',\n",
       " 'ROSS',\n",
       " 'ROSS',\n",
       " 'ROSS',\n",
       " 'ROSS',\n",
       " \"OKOYE'$ PROJECTION\",\n",
       " \"OKOYE'$ PROJECTION\",\n",
       " \"OKOYE'$ PROJECTION\",\n",
       " \"OKOYE'$ PROJECTION\",\n",
       " 'ROSS',\n",
       " \"T' CHALLA\",\n",
       " 'NAKIA',\n",
       " \"T'CHALLA\",\n",
       " 'ROSS',\n",
       " \"T'CHALLA\",\n",
       " 'SHURI',\n",
       " 'RIVER TRIBE ELDER',\n",
       " 'MINING TRIBE ELDER',\n",
       " \"T'CHALLA\",\n",
       " \"W' KABI\",\n",
       " 'GER',\n",
       " \"T'CHALLA\",\n",
       " 'KILLMON',\n",
       " 'GER',\n",
       " 'KILLMONGER',\n",
       " \"T'CHALLA\",\n",
       " 'KILLMONGER',\n",
       " \"T'CHALLA\",\n",
       " 'KILLMONGER',\n",
       " \"T'CHALLA\",\n",
       " 'RAMONDA',\n",
       " 'KILLMON',\n",
       " 'GER',\n",
       " 'SHURI',\n",
       " \"T'CHALLA\",\n",
       " 'KILLMON',\n",
       " 'GER',\n",
       " 'RIVER TRIBE ELDER',\n",
       " 'KILLMONGER',\n",
       " 'MINING TRIBE ELDER',\n",
       " 'KILLMONGER',\n",
       " 'RAMONDA',\n",
       " \"W'KABI\",\n",
       " 'MINING TRIBE ELDER',\n",
       " 'RAMONDA',\n",
       " 'BORDERTRIBE ELDER',\n",
       " 'RAMONDA',\n",
       " 'RIVER TRIBE ELDER',\n",
       " 'KILLMONGER',\n",
       " 'RAMONDA',\n",
       " \"T'CHALLA\",\n",
       " 'SHURI',\n",
       " 'ZURI',\n",
       " 'OKOYE',\n",
       " \"T'CHALLA\",\n",
       " 'KILLMON',\n",
       " 'GER',\n",
       " 'I',\n",
       " 'KILLMONGER',\n",
       " 'ZURI',\n",
       " \"T' CHALLA\",\n",
       " 'SHURI',\n",
       " 'ON NAKIA',\n",
       " 'KILLMONGER',\n",
       " \"T'CHALLA\",\n",
       " 'OKOYE',\n",
       " 'ZURI',\n",
       " 'KILLMONGER',\n",
       " 'KILLMON',\n",
       " 'GER',\n",
       " 'KILLMONGER',\n",
       " 'AYO',\n",
       " 'KILLMONGER',\n",
       " 'KILLMONGER',\n",
       " 'OKOYE',\n",
       " 'OKOYE',\n",
       " 'I',\n",
       " 'OKOYE',\n",
       " 'NAKIA',\n",
       " 'OKOYE',\n",
       " 'OKOYE',\n",
       " 'NAKIA',\n",
       " 'OKOYE',\n",
       " 'NAKIA',\n",
       " 'OKOYE',\n",
       " 'NAKIA',\n",
       " 'OKOYE',\n",
       " 'NAKIA',\n",
       " 'ROSS',\n",
       " 'NAKIA',\n",
       " 'NAKIA',\n",
       " 'RAMONDA',\n",
       " 'NAKIA',\n",
       " 'RAMONDA',\n",
       " 'NAKIA',\n",
       " 'RAMONDA',\n",
       " 'SHAMAN',\n",
       " 'YOUNGKILLMONGER',\n",
       " \"N'JOBU\",\n",
       " 'YOUNGKILLMONGER',\n",
       " \"N'JOBU\",\n",
       " 'YOUNGKILLMONGER',\n",
       " \"N'JOBU\",\n",
       " 'YOUNGKILLMONGER',\n",
       " \"N'JOBU\",\n",
       " \"N'JOBU\",\n",
       " 'SHAMAN',\n",
       " 'KILLMON',\n",
       " 'GER',\n",
       " 'KILLMONGER',\n",
       " 'SHAMAN',\n",
       " 'KILLMONGER',\n",
       " 'SHAMAN',\n",
       " 'KILLMONGER',\n",
       " 'ON NAKIA',\n",
       " 'KILLMONGER',\n",
       " 'KILLMONGER',\n",
       " 'KILLMONGER',\n",
       " 'OKOYE',\n",
       " \"W'KABI\",\n",
       " 'KILLMONGER',\n",
       " 'ROSS',\n",
       " 'NAKIA',\n",
       " 'ROSS',\n",
       " 'SHURI',\n",
       " 'NAKIA',\n",
       " 'RAMONDA',\n",
       " 'NAKIA',\n",
       " 'RAMONDA',\n",
       " 'NAKIA',\n",
       " \"M'BAKU\",\n",
       " 'NAKIA',\n",
       " \"M'BAKU\",\n",
       " 'SHURI',\n",
       " \"M'BAKU\",\n",
       " 'ROSS',\n",
       " \"M'BAKU\",\n",
       " \"M'BAKU\",\n",
       " 'NAKIA',\n",
       " \"M'BAKU\",\n",
       " 'NAKIA',\n",
       " \"M' BAKU\",\n",
       " \"M' BAKU\",\n",
       " 'SHURI',\n",
       " \"M' BAKU\",\n",
       " 'SHURI',\n",
       " \"M'BAKU\",\n",
       " 'RAMONDA',\n",
       " 'RAMONDA',\n",
       " 'RAMONDA',\n",
       " 'NAKIA',\n",
       " 'ROSS',\n",
       " 'SHURI',\n",
       " 'NAKIA',\n",
       " \"T'CHAKA\",\n",
       " \"T'CHAKA\",\n",
       " \"T'CHALLA\",\n",
       " \"T'CHALLA\",\n",
       " \"T' CHAKA\",\n",
       " \"T'CHALLA\",\n",
       " \"T'CHAKA\",\n",
       " \"T'CHALLA\",\n",
       " \"T'CHALLA\",\n",
       " 'NAKIA',\n",
       " 'ROSS',\n",
       " 'ROSS',\n",
       " \"T'CHALLA\",\n",
       " 'SHURI',\n",
       " \"T' CHALLA\",\n",
       " \"T'CHALLA\",\n",
       " 'RAMONDA',\n",
       " 'SHURI',\n",
       " \"T'CHALLA\",\n",
       " 'RAMONDA',\n",
       " \"T' CHALLA\",\n",
       " 'SHURI',\n",
       " 'SHURI',\n",
       " 'NAKIA',\n",
       " 'ROSS',\n",
       " 'ROSS',\n",
       " \"M'BAKU\",\n",
       " \"T'CHALLA\",\n",
       " \"M'BAKU\",\n",
       " \"T'CHALLA\",\n",
       " \"M'BAKU\",\n",
       " \"T'CHALLA\",\n",
       " \"M'BAKU\",\n",
       " \"T'CHALLA\",\n",
       " \"M'BAKU\",\n",
       " \"T'CHALLA\",\n",
       " \"M'BAKU\",\n",
       " \"W'KABI\",\n",
       " 'KILLMONGER',\n",
       " \"W'KABI\",\n",
       " 'KILLMON',\n",
       " 'GER',\n",
       " 'KILLMONGER',\n",
       " 'OKOYE',\n",
       " \"T'CHALLA\",\n",
       " 'KILLMON',\n",
       " 'GER',\n",
       " \"T'CHALLA\",\n",
       " \"T'CHALLA\",\n",
       " 'SHURI',\n",
       " 'SHURI',\n",
       " 'KILLMONGER',\n",
       " 'OKOYE',\n",
       " \"W'KABI\",\n",
       " 'OKOYE',\n",
       " 'OKOYE',\n",
       " 'DOWNHILL',\n",
       " 'DRAGONFLYER',\n",
       " \"T'CHALLA\",\n",
       " \"T' CHALLA\",\n",
       " 'ROSS',\n",
       " 'ROSS',\n",
       " 'NAKIA',\n",
       " 'ROSS',\n",
       " 'NAKIA',\n",
       " 'DORAMILAJE 1',\n",
       " 'GRIOT',\n",
       " 'SHURI',\n",
       " 'SHURI',\n",
       " 'ROSS',\n",
       " 'DOWNHILL',\n",
       " 'OKOYE',\n",
       " 'OKOYE',\n",
       " 'ROSS',\n",
       " 'ROSS',\n",
       " 'AIRSPACE',\n",
       " 'ROSS',\n",
       " 'AIRSPACE',\n",
       " 'ROSS',\n",
       " 'DOWNHILL',\n",
       " 'KILLMON',\n",
       " 'GER',\n",
       " \"T'CHALLA\",\n",
       " \"T'CHALLA\",\n",
       " \"T'CHALLA\",\n",
       " 'SHURI',\n",
       " 'KILLMON',\n",
       " 'GER',\n",
       " 'KILLMONGER',\n",
       " \"T'CHALLA\",\n",
       " 'KILLMON',\n",
       " 'GER',\n",
       " 'KILLMONGER',\n",
       " 'KILLMONGER',\n",
       " 'SHURI',\n",
       " 'SHURI',\n",
       " 'NAKIA',\n",
       " 'ROSS',\n",
       " 'ROSS',\n",
       " 'GRIOT',\n",
       " 'ROSS',\n",
       " 'DRAGONFLYER',\n",
       " 'SHURI',\n",
       " 'ROSS',\n",
       " 'GRIOT',\n",
       " 'ROSS',\n",
       " 'SHURI',\n",
       " \"W'KABI\",\n",
       " \"W'KABI\",\n",
       " 'OKOYE',\n",
       " \"M'BAKU\",\n",
       " 'GRIOT',\n",
       " 'GRIOT',\n",
       " 'ROSS',\n",
       " 'SHURI',\n",
       " 'GRIOT',\n",
       " 'SHURI',\n",
       " 'GRIOT',\n",
       " 'ROSS',\n",
       " \"W'KABI\",\n",
       " 'OKOYE',\n",
       " 'KILLMON',\n",
       " 'GER',\n",
       " 'KILLMONGER',\n",
       " 'KILLMONGER',\n",
       " 'KILLMONGER',\n",
       " \"T'CHALLA\",\n",
       " 'KILLMONGER',\n",
       " \"T'CHALLA\",\n",
       " 'NAKIA',\n",
       " \"T'CHALLA\",\n",
       " \"T'CHALLA\",\n",
       " 'SHURI',\n",
       " \"T'CHALLA\",\n",
       " 'SHURI',\n",
       " \"T'CHALLA\",\n",
       " \"T' CHALLA\",\n",
       " \"T'CHALLA\",\n",
       " 'SHURI',\n",
       " 'OAKLAND',\n",
       " 'KID #1',\n",
       " 'OAKLANDKID #2',\n",
       " 'OAKLAND',\n",
       " 'YOUNGBLACK KID',\n",
       " 'OAKLAND',\n",
       " 'KID #1',\n",
       " 'OAKLANDKID #2',\n",
       " 'OAKLANDKID #3',\n",
       " 'OAKLANDKID #2',\n",
       " 'OAKLANDKID #3',\n",
       " 'OAKLANDKID #1',\n",
       " 'OAKLANDKID #1',\n",
       " 'YOUNGBLACKKID',\n",
       " 'YOUNGBLACKKID',\n",
       " 'BLACKPANTHER',\n",
       " \"T'CHALLA\",\n",
       " 'SHURI',\n",
       " 'WAKANDAN',\n",
       " 'SHURI',\n",
       " 'WAKANDAN',\n",
       " 'SHURI',\n",
       " 'BUCKY',\n",
       " 'SHURI',\n",
       " 'BUCKY',\n",
       " 'SHURI']"
      ]
     },
     "execution_count": 86,
     "metadata": {},
     "output_type": "execute_result"
    }
   ],
   "source": [
    "final_lines"
   ]
  },
  {
   "cell_type": "code",
   "execution_count": 84,
   "metadata": {
    "ExecuteTime": {
     "end_time": "2019-05-27T17:05:16.742375Z",
     "start_time": "2019-05-27T17:05:16.735508Z"
    }
   },
   "outputs": [],
   "source": [
    "seqs['Black_Panther'] = final_lines"
   ]
  },
  {
   "cell_type": "markdown",
   "metadata": {},
   "source": [
    "# Fixing Little Things"
   ]
  },
  {
   "cell_type": "code",
   "execution_count": 39,
   "metadata": {
    "ExecuteTime": {
     "end_time": "2019-05-27T16:55:23.440854Z",
     "start_time": "2019-05-27T16:55:23.436571Z"
    }
   },
   "outputs": [
    {
     "name": "stdout",
     "output_type": "stream",
     "text": [
      "['↑ https', '↑ http']\n"
     ]
    }
   ],
   "source": [
    "print(seqs['Captain_America:_Civil_War'][-2:])\n",
    "seqs['Captain_America:_Civil_War'] = seqs['Captain_America:_Civil_War'][:-2]"
   ]
  },
  {
   "cell_type": "code",
   "execution_count": 40,
   "metadata": {
    "ExecuteTime": {
     "end_time": "2019-05-27T16:55:25.680020Z",
     "start_time": "2019-05-27T16:55:25.675844Z"
    }
   },
   "outputs": [
    {
     "name": "stdout",
     "output_type": "stream",
     "text": [
      "['nick fury', '↑ https']\n"
     ]
    }
   ],
   "source": [
    "print(seqs['Captain_America:_The_First_Avenger'][-2:])\n",
    "seqs['Captain_America:_The_First_Avenger'] = seqs['Captain_America:_The_First_Avenger'][:-1]"
   ]
  },
  {
   "cell_type": "code",
   "execution_count": 41,
   "metadata": {
    "ExecuteTime": {
     "end_time": "2019-05-27T16:55:28.172631Z",
     "start_time": "2019-05-27T16:55:28.166384Z"
    }
   },
   "outputs": [
    {
     "name": "stdout",
     "output_type": "stream",
     "text": [
      "['list', 'list', 'list', 'list']\n"
     ]
    }
   ],
   "source": [
    "print(seqs['Captain_America:_The_Winter_Soldier'][-4:])\n",
    "seqs['Captain_America:_The_Winter_Soldier'] = seqs['Captain_America:_The_Winter_Soldier'][:-4]"
   ]
  },
  {
   "cell_type": "code",
   "execution_count": 42,
   "metadata": {
    "ExecuteTime": {
     "end_time": "2019-05-27T16:55:29.354745Z",
     "start_time": "2019-05-27T16:55:29.349429Z"
    }
   },
   "outputs": [
    {
     "name": "stdout",
     "output_type": "stream",
     "text": [
      "['captain america']\n"
     ]
    }
   ],
   "source": [
    "print(seqs['Thor:_The_Dark_World'][:1])\n",
    "seqs['Thor:_The_Dark_World'] = seqs['Thor:_The_Dark_World'][1:]"
   ]
  },
  {
   "cell_type": "markdown",
   "metadata": {},
   "source": [
    "Remove 'ger'"
   ]
  },
  {
   "cell_type": "code",
   "execution_count": 97,
   "metadata": {
    "ExecuteTime": {
     "end_time": "2019-05-27T17:11:38.942152Z",
     "start_time": "2019-05-27T17:11:38.934884Z"
    }
   },
   "outputs": [],
   "source": [
    "seqs['Black_Panther'] = [line for line in seqs['Black_Panther'] if ''.join([i for i in line.lower() if i.isalpha()]) != 'ger' ]"
   ]
  },
  {
   "cell_type": "code",
   "execution_count": 98,
   "metadata": {
    "ExecuteTime": {
     "end_time": "2019-05-27T17:12:07.344431Z",
     "start_time": "2019-05-27T17:12:07.336887Z"
    }
   },
   "outputs": [
    {
     "data": {
      "text/plain": [
       "[('Ant-Man', 865),\n",
       " ('Avengers:_Age_of_Ultron', 975),\n",
       " ('Avengers:_Infinity_War', 991),\n",
       " ('Captain_America:_Civil_War', 982),\n",
       " ('Captain_America:_The_First_Avenger', 619),\n",
       " ('Captain_America:_The_Winter_Soldier', 822),\n",
       " ('Captain_Marvel_(2019)', 686),\n",
       " ('Guardians_of_the_Galaxy', 576),\n",
       " ('Spider-Man:_Homecoming', 1558),\n",
       " ('Iron_Man_2', 1006),\n",
       " ('Thor:_The_Dark_World', 732),\n",
       " ('Thor', 873),\n",
       " ('Thor:_Ragnarok', 970),\n",
       " ('Guardians_of_the_Galaxy_Vol._2', 956),\n",
       " ('The_Avengers', 830),\n",
       " ('Black_Panther', 728)]"
      ]
     },
     "execution_count": 98,
     "metadata": {},
     "output_type": "execute_result"
    }
   ],
   "source": [
    "[(k,len(v)) for k,v in seqs.items()]"
   ]
  },
  {
   "cell_type": "markdown",
   "metadata": {},
   "source": [
    "# Using Matt's Alias'"
   ]
  },
  {
   "cell_type": "code",
   "execution_count": 99,
   "metadata": {
    "ExecuteTime": {
     "end_time": "2019-05-27T17:12:16.872913Z",
     "start_time": "2019-05-27T17:12:16.285119Z"
    }
   },
   "outputs": [],
   "source": [
    "matt_git_csv = 'https://raw.githubusercontent.com/mroughan/AlephZeroHeroesData/master/MarvelCinematicUniverse/alias_list.csv'\n",
    "matts_alias = pd.read_csv(matt_git_csv)"
   ]
  },
  {
   "cell_type": "code",
   "execution_count": 100,
   "metadata": {
    "ExecuteTime": {
     "end_time": "2019-05-27T17:12:19.249275Z",
     "start_time": "2019-05-27T17:12:19.206480Z"
    }
   },
   "outputs": [],
   "source": [
    "name_to_alias = {}\n",
    "alias_to_name = {}\n",
    "for i, row in matts_alias.iterrows():\n",
    "    alias_list = row.Aliases.split(',')\n",
    "    name_to_alias[row.Character] = alias_list\n",
    "    \n",
    "    # More importantly, to map between my data and Matt's\n",
    "    for alias in alias_list:\n",
    "        steralised_alias = ''.join([i for i in alias.lower() if i.isalpha()])\n",
    "        alias_to_name[steralised_alias] = row.Character"
   ]
  },
  {
   "cell_type": "markdown",
   "metadata": {},
   "source": [
    "## Adding to Matts Database"
   ]
  },
  {
   "cell_type": "code",
   "execution_count": 101,
   "metadata": {
    "ExecuteTime": {
     "end_time": "2019-05-27T17:12:20.207057Z",
     "start_time": "2019-05-27T17:12:20.196581Z"
    }
   },
   "outputs": [],
   "source": [
    "alias_to_name['peter'] = 'Spider-Man'\n",
    "alias_to_name['tony'] = 'Iron Man'\n",
    "alias_to_name['carol'] = 'Captain Marvel'\n",
    "alias_to_name['pepper'] = 'Pepper Potts'\n",
    "alias_to_name['toomes'] = 'Vulture'\n",
    "alias_to_name['rocketraccoon'] = 'Rocket' # Note the double 'c'\n",
    "alias_to_name['justin'] = 'Justin Hammer'\n",
    "alias_to_name['scott'] = 'Ant-Man'\n",
    "alias_to_name['natasha'] = 'Black Widow'\n",
    "alias_to_name['natalie'] = 'Black Widow'\n",
    "alias_to_name['hank'] = 'Pym'\n",
    "alias_to_name['steve'] = 'Captain America'\n",
    "\n",
    "alias_to_name['karen'] = 'Karen' # Spidey suit AI\n",
    "alias_to_name['suitlady'] = 'Karen'\n",
    "\n",
    "alias_to_name['may'] = 'May Parker' # Aunt May\n",
    "alias_to_name['mason'] = 'Phineas Mason' # Spider-man tinkerer\n",
    "alias_to_name['ivan'] = 'Whiplash'\n",
    "alias_to_name['maria'] = 'Maria Hill' # Could be 'Maria Stark' but less likely to have dialogue\n",
    "\n",
    "alias_to_name['talos'] = 'Talos'\n",
    "alias_to_name['sohlarr'] = 'Talos' # Soh-Larr for you database\n",
    "alias_to_name['keller'] = 'Talos'  # Keller\n",
    "alias_to_name['generaltalos'] = 'Talos'\n",
    "alias_to_name['christine'] = 'Dr. Christine Palmer' # Either 'Christine Everhart' or 'Dr. Christine Palmer'\n",
    "alias_to_name['stern'] = 'Senator Stern' # 'Dr. Samuel Sterns' or 'Senator Stern' by we don't have Hulk so..\n",
    "alias_to_name['nakia'] = 'Nakia' # From black panther\n",
    "alias_to_name['aaron'] = 'Aaron Davis' # Also 'Prowler' or 'The Prowler' for your database\n",
    "alias_to_name['ianboothby'] = 'Ian Boothby' # Also The Intern, Mr. Selvig, from Thor: Dark World\n",
    "alias_to_name['monica'] = 'Monica Rambeau' # Daughter in Captain Marvel\n",
    "alias_to_name['brice'] = 'Shocker 1'\n",
    "alias_to_name['michelle'] = 'Michelle Jones'\n",
    "alias_to_name['banner'] = 'Hulk'\n",
    "alias_to_name['corpsmandey'] = 'Rhomann Dey'\n",
    "alias_to_name['eitri'] = 'Eitri'\n",
    "alias_to_name['lawson'] = 'Mar-Vell' # Also Wendy Lawson\n",
    "alias_to_name['secretaryross'] = 'Thaddeus Ross'\n",
    "alias_to_name['darrencross'] = 'Darren Cross'\n",
    "alias_to_name['liz'] = 'Liz Allan' # Brand new in your database, from villians daughter Spiderman \n",
    "\n",
    "# New\n",
    "alias_to_name['strange'] = 'Doctor Strange'\n",
    "alias_to_name['jane'] = 'Jane Foster'\n",
    "alias_to_name['killmon'] = 'Killmonger'\n",
    "alias_to_name['ger'] = ''\n",
    "alias_to_name['onokoye'] = 'Okoye'\n",
    "alias_to_name['onnakia']='Nakia'"
   ]
  },
  {
   "cell_type": "markdown",
   "metadata": {},
   "source": [
    "## Using Alias"
   ]
  },
  {
   "cell_type": "code",
   "execution_count": 102,
   "metadata": {
    "ExecuteTime": {
     "end_time": "2019-05-27T17:12:22.080385Z",
     "start_time": "2019-05-27T17:12:22.050412Z"
    }
   },
   "outputs": [],
   "source": [
    "clean_seqs = {}\n",
    "failed_names = []\n",
    "for movie_name, seq in seqs.items():\n",
    "    new_seq = [] # Make a new array to preserve data in memory\n",
    "    for line in seq:\n",
    "        line = ''.join([i for i in line.lower() if i.isalpha()])\n",
    "        if line in alias_to_name:\n",
    "            new_seq.append(alias_to_name[line])\n",
    "        else:\n",
    "            new_seq.append(line)\n",
    "            failed_names.append(line) # Save everything that we don't catch to update Matt's list\n",
    "    clean_seqs[movie_name] = new_seq"
   ]
  },
  {
   "cell_type": "code",
   "execution_count": 103,
   "metadata": {
    "ExecuteTime": {
     "end_time": "2019-05-27T17:12:23.410967Z",
     "start_time": "2019-05-27T17:12:23.388153Z"
    }
   },
   "outputs": [
    {
     "data": {
      "text/plain": [
       "[('klaue', 44),\n",
       " ('barton', 32),\n",
       " ('richard', 24),\n",
       " ('ayesha', 22),\n",
       " ('ramonda', 20),\n",
       " ('shieldagent', 19),\n",
       " ('njobu', 19),\n",
       " ('director', 15),\n",
       " ('securityguard', 15),\n",
       " ('newsanchor', 14),\n",
       " ('furyscar', 14),\n",
       " ('frenchpirate', 13),\n",
       " ('shieldcomputer', 13),\n",
       " ('doris', 13),\n",
       " ('policeofficer', 13),\n",
       " ('man', 12),\n",
       " ('actorthor', 12),\n",
       " ('councilman', 12),\n",
       " ('dale', 11),\n",
       " ('vasilykarpov', 11),\n",
       " ('senatorbrandt', 11),\n",
       " ('minnerva', 11),\n",
       " ('novaprime', 11),\n",
       " ('charles', 11),\n",
       " ('actorloki', 11),\n",
       " ('dumdumdugan', 10),\n",
       " ('abe', 10),\n",
       " ('omitted', 10),\n",
       " ('councilmanrockwell', 9),\n",
       " ('doctor', 9),\n",
       " ('newsreporter', 9),\n",
       " ('denariansaal', 9),\n",
       " ('quinjet', 9),\n",
       " ('intercomvoice', 9),\n",
       " ('gabejones', 8),\n",
       " ('jimmorita', 8),\n",
       " ('bronchar', 8),\n",
       " ('skrullscientist', 8),\n",
       " ('admissionsnurse', 8),\n",
       " ('soothingvoice', 8),\n",
       " ('monstrousravager', 8),\n",
       " ('father', 8),\n",
       " ('griot', 8),\n",
       " ('towerkeeper', 7),\n",
       " ('fdoctor', 7),\n",
       " ('general', 7),\n",
       " ('comtech', 7),\n",
       " ('marshal', 7),\n",
       " ('mysteriousman', 7),\n",
       " ('museumdirector', 7),\n",
       " ('oaklandkid', 7),\n",
       " ('mrsspencer', 6),\n",
       " ('germaninnkeeper', 6),\n",
       " ('shieldtech', 6),\n",
       " ('shieldlieutenant', 6),\n",
       " ('usosinger', 6),\n",
       " ('strikeagent', 6),\n",
       " ('mswarren', 6),\n",
       " ('robber', 6),\n",
       " ('police', 6),\n",
       " ('georgiluchkov', 6),\n",
       " ('councilwoman', 6),\n",
       " ('frank', 5),\n",
       " ('computer', 5),\n",
       " ('ironlegion', 5),\n",
       " ('collector', 5),\n",
       " ('youngtonystark', 5),\n",
       " ('guard', 5),\n",
       " ('searchteamleader', 5),\n",
       " ('brandtsaide', 5),\n",
       " ('armyheckler', 5),\n",
       " ('pvtlorraine', 5),\n",
       " ('pilot', 5),\n",
       " ('charlieweaponstech', 5),\n",
       " ('tom', 5),\n",
       " ('headriotguard', 5),\n",
       " ('annemariehoag', 5),\n",
       " ('jason', 5),\n",
       " ('principalmorita', 5),\n",
       " ('crowd', 5),\n",
       " ('moderator', 5),\n",
       " ('jack', 5),\n",
       " ('strawberryman', 5),\n",
       " ('einherjarguard', 5),\n",
       " ('meredith', 5),\n",
       " ('tullk', 5),\n",
       " ('son', 5),\n",
       " ('james', 5),\n",
       " ('gale', 4),\n",
       " ('fortresssoldier', 4),\n",
       " ('madameb', 4),\n",
       " ('stonekeeper', 4),\n",
       " ('mercenary', 4),\n",
       " ('manonpa', 4),\n",
       " ('gilmorehodge', 4),\n",
       " ('schneider', 4),\n",
       " ('roeder', 4),\n",
       " ('councilmansingh', 4),\n",
       " ('malenurse', 4),\n",
       " ('appleemployee', 4),\n",
       " ('charliexo', 4),\n",
       " ('attlass', 4),\n",
       " ('locals', 4),\n",
       " ('coulsen', 4),\n",
       " ('medicalexaminer', 4),\n",
       " ('security', 4),\n",
       " ('girl', 4),\n",
       " ('coachwilson', 4),\n",
       " ('randy', 4),\n",
       " ('fbiagent', 4),\n",
       " ('reporter', 4),\n",
       " ('technician', 4),\n",
       " ('eir', 4),\n",
       " ('collegegirl', 4),\n",
       " ('admiral', 4),\n",
       " ('momentslater', 4),\n",
       " ('endintercut', 4),\n",
       " ('policesergeant', 4),\n",
       " ('wakandan', 4),\n",
       " ('rivertribeelder', 4),\n",
       " ('okoyeprojection', 4),\n",
       " ('shaman', 4),\n",
       " ('avengers', 3),\n",
       " ('peachy', 3),\n",
       " ('detective', 3),\n",
       " ('alphaguard', 3),\n",
       " ('mitteacher', 3),\n",
       " ('gsgsoldier', 3),\n",
       " ('commercialannouncer', 3),\n",
       " ('loudjerk', 3),\n",
       " ('connie', 3),\n",
       " ('woman', 3),\n",
       " ('mother', 3),\n",
       " ('youngboy', 3),\n",
       " ('hutter', 3),\n",
       " ('femalewarveteran', 3),\n",
       " ('renata', 3),\n",
       " ('scientist', 3),\n",
       " ('committeegeneral', 3),\n",
       " ('securitycheckpoint', 3),\n",
       " ('kree', 3),\n",
       " ('bereet', 3),\n",
       " ('novaarrestingpilot', 3),\n",
       " ('novapilot', 3),\n",
       " ('streetvendor', 3),\n",
       " ('tiny', 3),\n",
       " ('student', 3),\n",
       " ('tourguide', 3),\n",
       " ('parkranger', 3),\n",
       " ('tech', 3),\n",
       " ('mrmusk', 3),\n",
       " ('howard', 3),\n",
       " ('pa', 3),\n",
       " ('maddie', 3),\n",
       " ('deskofficer', 3),\n",
       " ('odinallfather', 3),\n",
       " ('isabela', 3),\n",
       " ('techie', 3),\n",
       " ('agentcale', 3),\n",
       " ('actorodin', 3),\n",
       " ('leadscrapper', 3),\n",
       " ('geftheravager', 3),\n",
       " ('retch', 3),\n",
       " ('chambermaid', 3),\n",
       " ('younggirl', 3),\n",
       " ('doramilaje', 3),\n",
       " ('militantleader', 3),\n",
       " ('miningtribeelder', 3),\n",
       " ('downhill', 3),\n",
       " ('oakland', 3),\n",
       " ('youngblackkid', 3),\n",
       " ('hideousrabbit', 2),\n",
       " ('announcer', 2),\n",
       " ('soldiers', 2),\n",
       " ('klauesmercenary', 2),\n",
       " ('memorynebula', 2),\n",
       " ('memorygamora', 2),\n",
       " ('unstaffer', 2),\n",
       " ('custodian', 2),\n",
       " ('zemoswife', 2),\n",
       " ('jan', 2),\n",
       " ('hydralieutenant', 2),\n",
       " ('youngdoctor', 2),\n",
       " ('officer', 2),\n",
       " ('starksengineer', 2),\n",
       " ('dodgersannouncer', 2),\n",
       " ('womanonpa', 2),\n",
       " ('councilwomanhawley', 2),\n",
       " ('councilmanyen', 2),\n",
       " ('femalenurse', 2),\n",
       " ('hydradispatch', 2),\n",
       " ('scudder', 2),\n",
       " ('skrulltech', 2),\n",
       " ('skrull', 2),\n",
       " ('securityofficer', 2),\n",
       " ('biker', 2),\n",
       " ('bartender', 2),\n",
       " ('soren', 2),\n",
       " ('scanner', 2),\n",
       " ('', 2),\n",
       " ('horuz', 2),\n",
       " ('xandarianprisoner', 2),\n",
       " ('kreeambassador', 2),\n",
       " ('prisonguard', 2),\n",
       " ('knowherekid', 2),\n",
       " ('ravagerpilot', 2),\n",
       " ('dodcagent', 2),\n",
       " ('worker', 2),\n",
       " ('deliclerk', 2),\n",
       " ('carjacker', 2),\n",
       " ('marjorie', 2),\n",
       " ('resident', 2),\n",
       " ('gary', 2),\n",
       " ('thaiwaiter', 2),\n",
       " ('historyteacher', 2),\n",
       " ('students', 2),\n",
       " ('decathlonteam', 2),\n",
       " ('antonvanko', 2),\n",
       " ('notary', 2),\n",
       " ('newsreader', 2),\n",
       " ('person', 2),\n",
       " ('navid', 2),\n",
       " ('einherjarlieutenant', 2),\n",
       " ('guards', 2),\n",
       " ('control', 2),\n",
       " ('womanontrain', 2),\n",
       " ('ian', 2),\n",
       " ('nurse', 2),\n",
       " ('towniepete', 2),\n",
       " ('drunktownie', 2),\n",
       " ('isabel', 2),\n",
       " ('theend', 2),\n",
       " ('cousincarlo', 2),\n",
       " ('warden', 2),\n",
       " ('frightenedpilot', 2),\n",
       " ('martinex', 2),\n",
       " ('aleta', 2),\n",
       " ('youngshieldpilot', 2),\n",
       " ('shieldworker', 2),\n",
       " ('youngcop', 2),\n",
       " ('jetpilot', 2),\n",
       " ('malereporter', 2),\n",
       " ('waitress', 2),\n",
       " ('ayo', 2),\n",
       " ('linda', 2),\n",
       " ('later', 2),\n",
       " ('limbani', 2),\n",
       " ('merchant', 2),\n",
       " ('tribeelder', 2),\n",
       " ('bordertribeelder', 2),\n",
       " ('backinthepool', 2),\n",
       " ('elderlywoman', 2),\n",
       " ('southafricantough', 2),\n",
       " ('i', 2),\n",
       " ('dragonflyer', 2),\n",
       " ('airspace', 2),\n",
       " ('kid', 2),\n",
       " ('pymtechgateguard', 1),\n",
       " ('pymtechemployee', 1),\n",
       " ('carson', 1),\n",
       " ('videovoiceover', 1),\n",
       " ('cabdriver', 1),\n",
       " ('coponspeaker', 1),\n",
       " ('voiceoverradio', 1),\n",
       " ('scotlang', 1),\n",
       " ('cellphone', 1),\n",
       " ('poolbbqdad', 1),\n",
       " ('policeradio', 1),\n",
       " ('partyguest', 1),\n",
       " ('balletinstructor', 1),\n",
       " ('bartonsdaughter', 1),\n",
       " ('worldhubtech', 1),\n",
       " ('zrinka', 1),\n",
       " ('asgardianpa', 1),\n",
       " ('nedleeds', 1),\n",
       " ('gamorasmother', 1),\n",
       " ('childofthanos', 1),\n",
       " ('jabariwarriors', 1),\n",
       " ('domecontrol', 1),\n",
       " ('tonystarkanddrax', 1),\n",
       " ('jabari', 1),\n",
       " ('starksassistant', 1),\n",
       " ('priest', 1),\n",
       " ('manonspeakers', 1),\n",
       " ('gsgdriver', 1),\n",
       " ('attache', 1),\n",
       " ('securitychief', 1),\n",
       " ('fedexdriver', 1),\n",
       " ('voicefromearpiece', 1),\n",
       " ('enlistmentguy', 1),\n",
       " ('steveroger', 1),\n",
       " ('expoannouncer', 1),\n",
       " ('mandy', 1),\n",
       " ('randomwoman', 1),\n",
       " ('antiquestoreowner', 1),\n",
       " ('ssrdoctor', 1),\n",
       " ('taxidriver', 1),\n",
       " ('hydratechnicians', 1),\n",
       " ('kidsinusoaudience', 1),\n",
       " ('usogirl', 1),\n",
       " ('hydraguards', 1),\n",
       " ('corporal', 1),\n",
       " ('barkeeper', 1),\n",
       " ('facilitymanager', 1),\n",
       " ('jacquesdernier', 1),\n",
       " ('manontheradio', 1),\n",
       " ('jaquesdernier', 1),\n",
       " ('hydrasoldier', 1),\n",
       " ('johanschmidt', 1),\n",
       " ('durand', 1),\n",
       " ('quinjetpilot', 1),\n",
       " ('wintersoldier', 1),\n",
       " ('smithsonianguard', 1),\n",
       " ('councilmanhawley', 1),\n",
       " ('shieldpilot', 1),\n",
       " ('bailiff', 1),\n",
       " ('boy', 1),\n",
       " ('carolsfather', 1),\n",
       " ('cadets', 1),\n",
       " ('drillinstructor', 1),\n",
       " ('carolsbrother', 1),\n",
       " ('coulon', 1),\n",
       " ('furyandmaria', 1),\n",
       " ('barbouncer', 1),\n",
       " ('knowherecivilian', 1),\n",
       " ('ravagernavigator', 1),\n",
       " ('masklesssakaaran', 1),\n",
       " ('cheerleader', 1),\n",
       " ('mrcobbwell', 1),\n",
       " ('daysleeper', 1),\n",
       " ('oldman', 1),\n",
       " ('voicemail', 1),\n",
       " ('operator', 1),\n",
       " ('annie', 1),\n",
       " ('malevoice', 1),\n",
       " ('tentkids', 1),\n",
       " ('mrhapgood', 1),\n",
       " ('friend', 1),\n",
       " ('dodccentral', 1),\n",
       " ('dodcdriver', 1),\n",
       " ('tourist', 1),\n",
       " ('lizned', 1),\n",
       " ('families', 1),\n",
       " ('jasonbetty', 1),\n",
       " ('spanishteacher', 1),\n",
       " ('gargan', 1),\n",
       " ('manincrowd', 1),\n",
       " ('womanincrowd', 1),\n",
       " ('people', 1),\n",
       " ('larry', 1),\n",
       " ('tvjustin', 1),\n",
       " ('goldstein', 1),\n",
       " ('secondguard', 1),\n",
       " ('announcement', 1),\n",
       " ('asgardianeinherjar', 1),\n",
       " ('asgardiannurse', 1),\n",
       " ('patient', 1),\n",
       " ('aman', 1),\n",
       " ('mjolnir', 1),\n",
       " ('volstagghogun', 1),\n",
       " ('jotunsentry', 1),\n",
       " ('jotun', 1),\n",
       " ('orderly', 1),\n",
       " ('townie', 1),\n",
       " ('eagertownie', 1),\n",
       " ('pete', 1),\n",
       " ('when', 1),\n",
       " ('understandingsomething', 1),\n",
       " ('librarian', 1),\n",
       " ('cutto', 1),\n",
       " ('agentjackson', 1),\n",
       " ('agentdelancey', 1),\n",
       " ('thorselvig', 1),\n",
       " ('lokis', 1),\n",
       " ('fadeout', 1),\n",
       " ('asgardianwoman', 1),\n",
       " ('maintitle', 1),\n",
       " ('actorsif', 1),\n",
       " ('ableeckerstreet', 1),\n",
       " ('lokie', 1),\n",
       " ('bannerthor', 1),\n",
       " ('thorbanner', 1),\n",
       " ('asgardiancitizens', 1),\n",
       " ('asgardianman', 1),\n",
       " ('pullsher', 1),\n",
       " ('sovereignpilot', 1),\n",
       " ('proprietor', 1),\n",
       " ('tallravager', 1),\n",
       " ('brahl', 1),\n",
       " ('oblo', 1),\n",
       " ('a', 1),\n",
       " ('theground', 1),\n",
       " ('officerfitzgibbon', 1),\n",
       " ('grandpaquill', 1),\n",
       " ('mainframe', 1),\n",
       " ('adolescentgroot', 1),\n",
       " ('nasascientist', 1),\n",
       " ('weasellythug', 1),\n",
       " ('calcuttawoman', 1),\n",
       " ('facelesspilot', 1),\n",
       " ('carrierbridge', 1),\n",
       " ('femalecarrier', 1),\n",
       " ('maleagent', 1),\n",
       " ('germanoldman', 1),\n",
       " ('novar', 1),\n",
       " ('offscreenworker', 1),\n",
       " ('maintenanceguy', 1),\n",
       " ('malecitizen', 1),\n",
       " ('femalecitizen', 1),\n",
       " ('husband', 1),\n",
       " ('wife', 1),\n",
       " ('thesenator', 1)]"
      ]
     },
     "execution_count": 103,
     "metadata": {},
     "output_type": "execute_result"
    }
   ],
   "source": [
    "Counter(failed_names).most_common()"
   ]
  },
  {
   "cell_type": "markdown",
   "metadata": {},
   "source": [
    "## Saving to CSVs"
   ]
  },
  {
   "cell_type": "code",
   "execution_count": 108,
   "metadata": {
    "ExecuteTime": {
     "end_time": "2019-05-27T17:13:04.654238Z",
     "start_time": "2019-05-27T17:13:04.570951Z"
    }
   },
   "outputs": [],
   "source": [
    "for name, seq in clean_seqs.items():\n",
    "    series = pd.Series(seq)\n",
    "    series.to_csv('../Data/MarvelScripts/'+name+'.csv')"
   ]
  },
  {
   "cell_type": "markdown",
   "metadata": {},
   "source": [
    "## Making new counts"
   ]
  },
  {
   "cell_type": "code",
   "execution_count": 104,
   "metadata": {
    "ExecuteTime": {
     "end_time": "2019-05-27T17:12:35.678151Z",
     "start_time": "2019-05-27T17:12:35.673057Z"
    }
   },
   "outputs": [],
   "source": [
    "counts = {}\n",
    "for name, seq in clean_seqs.items():\n",
    "    counts[name] = (Counter(seq).most_common())"
   ]
  },
  {
   "cell_type": "markdown",
   "metadata": {},
   "source": [
    "# Calculations "
   ]
  },
  {
   "cell_type": "markdown",
   "metadata": {},
   "source": [
    "## Running Shannon Entropy"
   ]
  },
  {
   "cell_type": "code",
   "execution_count": 106,
   "metadata": {
    "ExecuteTime": {
     "end_time": "2019-05-27T17:12:42.702011Z",
     "start_time": "2019-05-27T17:12:42.692143Z"
    }
   },
   "outputs": [
    {
     "data": {
      "text/plain": [
       "Ant-Man                                3.401423\n",
       "Avengers:_Age_of_Ultron                3.972530\n",
       "Avengers:_Infinity_War                 4.673448\n",
       "Captain_America:_Civil_War             4.162912\n",
       "Captain_America:_The_First_Avenger     4.115598\n",
       "Captain_America:_The_Winter_Soldier    3.915047\n",
       "Captain_Marvel_(2019)                  3.512934\n",
       "Guardians_of_the_Galaxy                3.654280\n",
       "Spider-Man:_Homecoming                 3.893126\n",
       "Iron_Man_2                             3.400770\n",
       "Thor:_The_Dark_World                   3.815437\n",
       "Thor                                   3.935075\n",
       "Thor:_Ragnarok                         3.379268\n",
       "Guardians_of_the_Galaxy_Vol._2         3.624661\n",
       "The_Avengers                           4.065723\n",
       "Black_Panther                          4.240313\n",
       "dtype: float64"
      ]
     },
     "execution_count": 106,
     "metadata": {},
     "output_type": "execute_result"
    }
   ],
   "source": [
    "shannon_entropys = {}\n",
    "for name, count_list in counts.items():\n",
    "    total = np.sum([person[1] for person in count_list])\n",
    "    shannon_entropy = 0\n",
    "    for person in count_list:\n",
    "        p = person[1]/total\n",
    "        shannon_entropy+= p*math.log(p,2)\n",
    "        \n",
    "    shannon_entropys[name] = -shannon_entropy\n",
    "\n",
    "pd.Series(shannon_entropys)"
   ]
  },
  {
   "cell_type": "markdown",
   "metadata": {},
   "source": [
    "## Diversity Index"
   ]
  },
  {
   "cell_type": "markdown",
   "metadata": {},
   "source": [
    "\" [Diversity index](https://en.wikipedia.org/wiki/Diversity_index) is a quantitative measure that reflects how many different types (such as species) there are in a dataset (a community), and simultaneously takes into account how evenly the basic entities (such as individuals) are distributed among those types. \"\n",
    "\n",
    "$$\n",
    "^{q} D=\\frac{1}{M_{q-1}} = \\left(\\sum_{i=1}^{R} p_{i}^{q}\\right)^{1 /(1-q)}\n",
    "$$\n",
    "\n",
    "with $M_{q-1}$ as weighted generalized mean with exponent q-1\n",
    "\n",
    "$$\n",
    "^{1} D=\\frac{1}{\\prod_{i=1}^{R} p_{i}^{p_{i}}}=\\exp \\left(-\\sum_{i=1}^{R} p_{i} \\ln \\left(p_{i}\\right)\\right)\n",
    "$$\n",
    "\n",
    "\n",
    "\"In other domains, this ($^{1} D$) statistic is also known as the perplexity.\""
   ]
  },
  {
   "cell_type": "code",
   "execution_count": 107,
   "metadata": {
    "ExecuteTime": {
     "end_time": "2019-05-27T17:12:45.246839Z",
     "start_time": "2019-05-27T17:12:45.239059Z"
    }
   },
   "outputs": [
    {
     "data": {
      "text/plain": [
       "Ant-Man                                10.566478\n",
       "Avengers:_Age_of_Ultron                15.698235\n",
       "Avengers:_Infinity_War                 25.518089\n",
       "Captain_America:_Civil_War             17.912712\n",
       "Captain_America:_The_First_Avenger     17.334781\n",
       "Captain_America:_The_Winter_Soldier    15.085048\n",
       "Captain_Marvel_(2019)                  11.415594\n",
       "Guardians_of_the_Galaxy                12.590645\n",
       "Spider-Man:_Homecoming                 14.857569\n",
       "Iron_Man_2                             10.561698\n",
       "Thor:_The_Dark_World                   14.078649\n",
       "Thor                                   15.295916\n",
       "Thor:_Ragnarok                         10.405453\n",
       "Guardians_of_the_Galaxy_Vol._2         12.334790\n",
       "The_Avengers                           16.745749\n",
       "Black_Panther                          18.899979\n",
       "dtype: float64"
      ]
     },
     "execution_count": 107,
     "metadata": {},
     "output_type": "execute_result"
    }
   ],
   "source": [
    "diversities = {} # Using D1, we just take exp(shannon entropy)\n",
    "for name, en in shannon_entropys.items():\n",
    "    diversities[name]  = np.power(2,en)\n",
    "    \n",
    "pd.Series(diversities)"
   ]
  },
  {
   "cell_type": "markdown",
   "metadata": {},
   "source": [
    "## Entropy Rates"
   ]
  },
  {
   "cell_type": "code",
   "execution_count": 109,
   "metadata": {
    "ExecuteTime": {
     "end_time": "2019-05-27T17:13:09.863813Z",
     "start_time": "2019-05-27T17:13:09.856060Z"
    }
   },
   "outputs": [],
   "source": [
    "def hhat(list_of_string):\n",
    "    \"\"\" Non parametric entropy rate estimator for a single random process. \"\"\"\n",
    "    word_set = set(list_of_string)\n",
    "\n",
    "    ref = dict(zip(word_set, list(range(len(word_set)))))\n",
    "\n",
    "    data = [ref[w] for w in list_of_string]\n",
    "\n",
    "    N = len(data)\n",
    "    Lambdas = 0\n",
    "    pre_string = \"  \"  # Create a string containing the previous words\n",
    "    for i in range(N):  \n",
    "        count = 0\n",
    "        string_in = True \n",
    "        while string_in and i+count<N: # Loop through each possible subsequence until break\n",
    "            count+=1\n",
    "            string_in = \" \" + \" \".join([str(i) for i in data[i:i+count]]) + \" \" in pre_string  # Use 'in' to check\n",
    "        Lambdas += count\n",
    "        pre_string += \"%s  \" % data[i]  # Append to previous words varible\n",
    "    return N*math.log(N,2)/Lambdas"
   ]
  },
  {
   "cell_type": "code",
   "execution_count": 110,
   "metadata": {
    "ExecuteTime": {
     "end_time": "2019-05-27T17:13:11.911101Z",
     "start_time": "2019-05-27T17:13:11.789801Z"
    }
   },
   "outputs": [
    {
     "data": {
      "text/plain": [
       "Ant-Man                                4.987838\n",
       "Avengers:_Age_of_Ultron                5.068600\n",
       "Avengers:_Infinity_War                 5.118405\n",
       "Captain_America:_Civil_War             5.102283\n",
       "Captain_America:_The_First_Avenger     4.919006\n",
       "Captain_America:_The_Winter_Soldier    5.031240\n",
       "Captain_Marvel_(2019)                  4.874462\n",
       "Guardians_of_the_Galaxy                4.745622\n",
       "Spider-Man:_Homecoming                 5.453247\n",
       "Iron_Man_2                             5.116910\n",
       "Thor:_The_Dark_World                   4.905276\n",
       "Thor                                   5.025968\n",
       "Thor:_Ragnarok                         5.068028\n",
       "Guardians_of_the_Galaxy_Vol._2         5.056212\n",
       "The_Avengers                           5.014631\n",
       "Black_Panther                          4.979622\n",
       "dtype: float64"
      ]
     },
     "execution_count": 110,
     "metadata": {},
     "output_type": "execute_result"
    }
   ],
   "source": [
    "entropy_rates = {}\n",
    "for name, seq in seqs.items():\n",
    "    entropy_rates[name] = hhat(seq)\n",
    "    \n",
    "pd.Series(entropy_rates)"
   ]
  },
  {
   "cell_type": "markdown",
   "metadata": {},
   "source": [
    "# Combining Results"
   ]
  },
  {
   "cell_type": "markdown",
   "metadata": {},
   "source": [
    "Making a dataframe of my work"
   ]
  },
  {
   "cell_type": "code",
   "execution_count": 111,
   "metadata": {
    "ExecuteTime": {
     "end_time": "2019-05-27T17:13:14.256772Z",
     "start_time": "2019-05-27T17:13:14.250064Z"
    }
   },
   "outputs": [],
   "source": [
    "df = pd.DataFrame()\n",
    "df['entropy_rate'] = pd.Series(entropy_rates)\n",
    "df['diversity'] = pd.Series(diversities)\n",
    "df['shannon_entropy'] = pd.Series(shannon_entropys)"
   ]
  },
  {
   "cell_type": "markdown",
   "metadata": {},
   "source": [
    "Getting Matt's meta data"
   ]
  },
  {
   "cell_type": "code",
   "execution_count": 112,
   "metadata": {
    "ExecuteTime": {
     "end_time": "2019-05-27T17:13:15.671478Z",
     "start_time": "2019-05-27T17:13:15.189660Z"
    }
   },
   "outputs": [],
   "source": [
    "matt_imdb_meta = pd.read_csv(\n",
    "    'https://raw.githubusercontent.com/mroughan/AlephZeroHeroesData/master/MarvelCinematicUniverse/imdb_data.csv')"
   ]
  },
  {
   "cell_type": "markdown",
   "metadata": {},
   "source": [
    "### Aligning DataFrame Index"
   ]
  },
  {
   "cell_type": "code",
   "execution_count": 113,
   "metadata": {
    "ExecuteTime": {
     "end_time": "2019-05-27T17:13:17.457491Z",
     "start_time": "2019-05-27T17:13:17.452938Z"
    }
   },
   "outputs": [],
   "source": [
    "df['Transcript URL Tail'] = df.index"
   ]
  },
  {
   "cell_type": "code",
   "execution_count": 114,
   "metadata": {
    "ExecuteTime": {
     "end_time": "2019-05-27T17:13:17.998730Z",
     "start_time": "2019-05-27T17:13:17.991661Z"
    }
   },
   "outputs": [],
   "source": [
    "df['Index'] = [''.join([i for i in d.lower() if i.isalnum()]) for d in df.index]\n",
    "df['Index']= ['captainmarvel' if 'captainmarvel' in i else i for i in df.Index ]"
   ]
  },
  {
   "cell_type": "code",
   "execution_count": 115,
   "metadata": {
    "ExecuteTime": {
     "end_time": "2019-05-27T17:13:18.420044Z",
     "start_time": "2019-05-27T17:13:18.414128Z"
    }
   },
   "outputs": [],
   "source": [
    "index_matt = [''.join([i for i in d.lower() if i.isalnum()]) for d in matt_imdb_meta.Title]\n",
    "matt_imdb_meta['Index'] =  index_matt"
   ]
  },
  {
   "cell_type": "markdown",
   "metadata": {},
   "source": [
    "### Merging Dataframes"
   ]
  },
  {
   "cell_type": "code",
   "execution_count": 116,
   "metadata": {
    "ExecuteTime": {
     "end_time": "2019-05-27T17:13:19.067307Z",
     "start_time": "2019-05-27T17:13:19.058853Z"
    }
   },
   "outputs": [],
   "source": [
    "df = pd.merge(df, matt_imdb_meta, on = 'Index')"
   ]
  },
  {
   "cell_type": "code",
   "execution_count": 117,
   "metadata": {
    "ExecuteTime": {
     "end_time": "2019-05-27T17:13:19.595967Z",
     "start_time": "2019-05-27T17:13:19.572224Z"
    }
   },
   "outputs": [
    {
     "data": {
      "text/html": [
       "<div>\n",
       "<style scoped>\n",
       "    .dataframe tbody tr th:only-of-type {\n",
       "        vertical-align: middle;\n",
       "    }\n",
       "\n",
       "    .dataframe tbody tr th {\n",
       "        vertical-align: top;\n",
       "    }\n",
       "\n",
       "    .dataframe thead th {\n",
       "        text-align: right;\n",
       "    }\n",
       "</style>\n",
       "<table border=\"1\" class=\"dataframe\">\n",
       "  <thead>\n",
       "    <tr style=\"text-align: right;\">\n",
       "      <th></th>\n",
       "      <th>entropy_rate</th>\n",
       "      <th>diversity</th>\n",
       "      <th>shannon_entropy</th>\n",
       "      <th>Transcript URL Tail</th>\n",
       "      <th>Index</th>\n",
       "      <th>Title</th>\n",
       "      <th>ReleaseYear</th>\n",
       "      <th>IMDBid</th>\n",
       "      <th>Runtime</th>\n",
       "      <th>imdbRating</th>\n",
       "      <th>imdbVotes</th>\n",
       "      <th>Metascore</th>\n",
       "      <th>Released</th>\n",
       "      <th>BoxOffice</th>\n",
       "    </tr>\n",
       "  </thead>\n",
       "  <tbody>\n",
       "    <tr>\n",
       "      <th>0</th>\n",
       "      <td>4.987838</td>\n",
       "      <td>10.566478</td>\n",
       "      <td>3.401423</td>\n",
       "      <td>Ant-Man</td>\n",
       "      <td>antman</td>\n",
       "      <td>Ant-Man</td>\n",
       "      <td>2015.0</td>\n",
       "      <td>tt0478970</td>\n",
       "      <td>117.0</td>\n",
       "      <td>7.3</td>\n",
       "      <td>492948.0</td>\n",
       "      <td>64.0</td>\n",
       "      <td>2015-07-17</td>\n",
       "      <td>138002223.0</td>\n",
       "    </tr>\n",
       "    <tr>\n",
       "      <th>1</th>\n",
       "      <td>5.068600</td>\n",
       "      <td>15.698235</td>\n",
       "      <td>3.972530</td>\n",
       "      <td>Avengers:_Age_of_Ultron</td>\n",
       "      <td>avengersageofultron</td>\n",
       "      <td>Avengers: Age of Ultron</td>\n",
       "      <td>2015.0</td>\n",
       "      <td>tt2395427</td>\n",
       "      <td>141.0</td>\n",
       "      <td>7.3</td>\n",
       "      <td>654822.0</td>\n",
       "      <td>66.0</td>\n",
       "      <td>2015-05-01</td>\n",
       "      <td>429113729.0</td>\n",
       "    </tr>\n",
       "    <tr>\n",
       "      <th>2</th>\n",
       "      <td>5.118405</td>\n",
       "      <td>25.518089</td>\n",
       "      <td>4.673448</td>\n",
       "      <td>Avengers:_Infinity_War</td>\n",
       "      <td>avengersinfinitywar</td>\n",
       "      <td>Avengers: Infinity War</td>\n",
       "      <td>2018.0</td>\n",
       "      <td>tt4154756</td>\n",
       "      <td>149.0</td>\n",
       "      <td>8.5</td>\n",
       "      <td>641255.0</td>\n",
       "      <td>68.0</td>\n",
       "      <td>2018-04-27</td>\n",
       "      <td>664987816.0</td>\n",
       "    </tr>\n",
       "    <tr>\n",
       "      <th>3</th>\n",
       "      <td>5.102283</td>\n",
       "      <td>17.912712</td>\n",
       "      <td>4.162912</td>\n",
       "      <td>Captain_America:_Civil_War</td>\n",
       "      <td>captainamericacivilwar</td>\n",
       "      <td>Captain America: Civil War</td>\n",
       "      <td>2016.0</td>\n",
       "      <td>tt3498820</td>\n",
       "      <td>147.0</td>\n",
       "      <td>7.8</td>\n",
       "      <td>574126.0</td>\n",
       "      <td>75.0</td>\n",
       "      <td>2016-05-06</td>\n",
       "      <td>408080554.0</td>\n",
       "    </tr>\n",
       "    <tr>\n",
       "      <th>4</th>\n",
       "      <td>4.919006</td>\n",
       "      <td>17.334781</td>\n",
       "      <td>4.115598</td>\n",
       "      <td>Captain_America:_The_First_Avenger</td>\n",
       "      <td>captainamericathefirstavenger</td>\n",
       "      <td>Captain America: The First Avenger</td>\n",
       "      <td>2011.0</td>\n",
       "      <td>tt0458339</td>\n",
       "      <td>124.0</td>\n",
       "      <td>6.9</td>\n",
       "      <td>662101.0</td>\n",
       "      <td>66.0</td>\n",
       "      <td>2011-07-22</td>\n",
       "      <td>176636816.0</td>\n",
       "    </tr>\n",
       "    <tr>\n",
       "      <th>5</th>\n",
       "      <td>5.031240</td>\n",
       "      <td>15.085048</td>\n",
       "      <td>3.915047</td>\n",
       "      <td>Captain_America:_The_Winter_Soldier</td>\n",
       "      <td>captainamericathewintersoldier</td>\n",
       "      <td>Captain America: The Winter Soldier</td>\n",
       "      <td>2014.0</td>\n",
       "      <td>tt1843866</td>\n",
       "      <td>136.0</td>\n",
       "      <td>7.8</td>\n",
       "      <td>655267.0</td>\n",
       "      <td>70.0</td>\n",
       "      <td>2014-04-04</td>\n",
       "      <td>228636083.0</td>\n",
       "    </tr>\n",
       "    <tr>\n",
       "      <th>6</th>\n",
       "      <td>4.874462</td>\n",
       "      <td>11.415594</td>\n",
       "      <td>3.512934</td>\n",
       "      <td>Captain_Marvel_(2019)</td>\n",
       "      <td>captainmarvel</td>\n",
       "      <td>Captain Marvel</td>\n",
       "      <td>2019.0</td>\n",
       "      <td>tt4154664</td>\n",
       "      <td>123.0</td>\n",
       "      <td>7.1</td>\n",
       "      <td>258034.0</td>\n",
       "      <td>64.0</td>\n",
       "      <td>2019-03-08</td>\n",
       "      <td>NaN</td>\n",
       "    </tr>\n",
       "    <tr>\n",
       "      <th>7</th>\n",
       "      <td>4.745622</td>\n",
       "      <td>12.590645</td>\n",
       "      <td>3.654280</td>\n",
       "      <td>Guardians_of_the_Galaxy</td>\n",
       "      <td>guardiansofthegalaxy</td>\n",
       "      <td>Guardians of the Galaxy</td>\n",
       "      <td>2014.0</td>\n",
       "      <td>tt2015381</td>\n",
       "      <td>121.0</td>\n",
       "      <td>8.1</td>\n",
       "      <td>936430.0</td>\n",
       "      <td>76.0</td>\n",
       "      <td>2014-08-01</td>\n",
       "      <td>270592504.0</td>\n",
       "    </tr>\n",
       "    <tr>\n",
       "      <th>8</th>\n",
       "      <td>5.453247</td>\n",
       "      <td>14.857569</td>\n",
       "      <td>3.893126</td>\n",
       "      <td>Spider-Man:_Homecoming</td>\n",
       "      <td>spidermanhomecoming</td>\n",
       "      <td>Spider-Man: Homecoming</td>\n",
       "      <td>2017.0</td>\n",
       "      <td>tt2250912</td>\n",
       "      <td>133.0</td>\n",
       "      <td>7.5</td>\n",
       "      <td>418900.0</td>\n",
       "      <td>73.0</td>\n",
       "      <td>2017-07-07</td>\n",
       "      <td>334166825.0</td>\n",
       "    </tr>\n",
       "    <tr>\n",
       "      <th>9</th>\n",
       "      <td>5.116910</td>\n",
       "      <td>10.561698</td>\n",
       "      <td>3.400770</td>\n",
       "      <td>Iron_Man_2</td>\n",
       "      <td>ironman2</td>\n",
       "      <td>Iron Man 2</td>\n",
       "      <td>2010.0</td>\n",
       "      <td>tt1228705</td>\n",
       "      <td>124.0</td>\n",
       "      <td>7.0</td>\n",
       "      <td>650168.0</td>\n",
       "      <td>57.0</td>\n",
       "      <td>2010-05-07</td>\n",
       "      <td>312057433.0</td>\n",
       "    </tr>\n",
       "    <tr>\n",
       "      <th>10</th>\n",
       "      <td>4.905276</td>\n",
       "      <td>14.078649</td>\n",
       "      <td>3.815437</td>\n",
       "      <td>Thor:_The_Dark_World</td>\n",
       "      <td>thorthedarkworld</td>\n",
       "      <td>Thor: The Dark World</td>\n",
       "      <td>2013.0</td>\n",
       "      <td>tt1981115</td>\n",
       "      <td>112.0</td>\n",
       "      <td>6.9</td>\n",
       "      <td>533625.0</td>\n",
       "      <td>54.0</td>\n",
       "      <td>2013-11-08</td>\n",
       "      <td>206360018.0</td>\n",
       "    </tr>\n",
       "    <tr>\n",
       "      <th>11</th>\n",
       "      <td>5.025968</td>\n",
       "      <td>15.295916</td>\n",
       "      <td>3.935075</td>\n",
       "      <td>Thor</td>\n",
       "      <td>thor</td>\n",
       "      <td>Thor</td>\n",
       "      <td>2011.0</td>\n",
       "      <td>tt0800369</td>\n",
       "      <td>115.0</td>\n",
       "      <td>7.0</td>\n",
       "      <td>677686.0</td>\n",
       "      <td>57.0</td>\n",
       "      <td>2011-05-06</td>\n",
       "      <td>181015141.0</td>\n",
       "    </tr>\n",
       "    <tr>\n",
       "      <th>12</th>\n",
       "      <td>5.068028</td>\n",
       "      <td>10.405453</td>\n",
       "      <td>3.379268</td>\n",
       "      <td>Thor:_Ragnarok</td>\n",
       "      <td>thorragnarok</td>\n",
       "      <td>Thor: Ragnarok</td>\n",
       "      <td>2017.0</td>\n",
       "      <td>tt3501632</td>\n",
       "      <td>130.0</td>\n",
       "      <td>7.9</td>\n",
       "      <td>470059.0</td>\n",
       "      <td>74.0</td>\n",
       "      <td>2017-11-03</td>\n",
       "      <td>314971245.0</td>\n",
       "    </tr>\n",
       "    <tr>\n",
       "      <th>13</th>\n",
       "      <td>5.056212</td>\n",
       "      <td>12.334790</td>\n",
       "      <td>3.624661</td>\n",
       "      <td>Guardians_of_the_Galaxy_Vol._2</td>\n",
       "      <td>guardiansofthegalaxyvol2</td>\n",
       "      <td>Guardians of the Galaxy Vol. 2</td>\n",
       "      <td>2017.0</td>\n",
       "      <td>tt3896198</td>\n",
       "      <td>136.0</td>\n",
       "      <td>7.7</td>\n",
       "      <td>471312.0</td>\n",
       "      <td>67.0</td>\n",
       "      <td>2017-05-05</td>\n",
       "      <td>389804217.0</td>\n",
       "    </tr>\n",
       "    <tr>\n",
       "      <th>14</th>\n",
       "      <td>5.014631</td>\n",
       "      <td>16.745749</td>\n",
       "      <td>4.065723</td>\n",
       "      <td>The_Avengers</td>\n",
       "      <td>theavengers</td>\n",
       "      <td>The Avengers</td>\n",
       "      <td>2012.0</td>\n",
       "      <td>tt0848228</td>\n",
       "      <td>143.0</td>\n",
       "      <td>8.1</td>\n",
       "      <td>1165317.0</td>\n",
       "      <td>69.0</td>\n",
       "      <td>2012-05-04</td>\n",
       "      <td>623279547.0</td>\n",
       "    </tr>\n",
       "    <tr>\n",
       "      <th>15</th>\n",
       "      <td>4.979622</td>\n",
       "      <td>18.899979</td>\n",
       "      <td>4.240313</td>\n",
       "      <td>Black_Panther</td>\n",
       "      <td>blackpanther</td>\n",
       "      <td>Black Panther</td>\n",
       "      <td>2018.0</td>\n",
       "      <td>tt1825683</td>\n",
       "      <td>134.0</td>\n",
       "      <td>7.3</td>\n",
       "      <td>501220.0</td>\n",
       "      <td>88.0</td>\n",
       "      <td>2018-02-16</td>\n",
       "      <td>501105037.0</td>\n",
       "    </tr>\n",
       "  </tbody>\n",
       "</table>\n",
       "</div>"
      ],
      "text/plain": [
       "    entropy_rate  diversity  shannon_entropy  \\\n",
       "0       4.987838  10.566478         3.401423   \n",
       "1       5.068600  15.698235         3.972530   \n",
       "2       5.118405  25.518089         4.673448   \n",
       "3       5.102283  17.912712         4.162912   \n",
       "4       4.919006  17.334781         4.115598   \n",
       "5       5.031240  15.085048         3.915047   \n",
       "6       4.874462  11.415594         3.512934   \n",
       "7       4.745622  12.590645         3.654280   \n",
       "8       5.453247  14.857569         3.893126   \n",
       "9       5.116910  10.561698         3.400770   \n",
       "10      4.905276  14.078649         3.815437   \n",
       "11      5.025968  15.295916         3.935075   \n",
       "12      5.068028  10.405453         3.379268   \n",
       "13      5.056212  12.334790         3.624661   \n",
       "14      5.014631  16.745749         4.065723   \n",
       "15      4.979622  18.899979         4.240313   \n",
       "\n",
       "                    Transcript URL Tail                           Index  \\\n",
       "0                               Ant-Man                          antman   \n",
       "1               Avengers:_Age_of_Ultron             avengersageofultron   \n",
       "2                Avengers:_Infinity_War             avengersinfinitywar   \n",
       "3            Captain_America:_Civil_War          captainamericacivilwar   \n",
       "4    Captain_America:_The_First_Avenger   captainamericathefirstavenger   \n",
       "5   Captain_America:_The_Winter_Soldier  captainamericathewintersoldier   \n",
       "6                 Captain_Marvel_(2019)                   captainmarvel   \n",
       "7               Guardians_of_the_Galaxy            guardiansofthegalaxy   \n",
       "8                Spider-Man:_Homecoming             spidermanhomecoming   \n",
       "9                            Iron_Man_2                        ironman2   \n",
       "10                 Thor:_The_Dark_World                thorthedarkworld   \n",
       "11                                 Thor                            thor   \n",
       "12                       Thor:_Ragnarok                    thorragnarok   \n",
       "13       Guardians_of_the_Galaxy_Vol._2        guardiansofthegalaxyvol2   \n",
       "14                         The_Avengers                     theavengers   \n",
       "15                        Black_Panther                    blackpanther   \n",
       "\n",
       "                                  Title  ReleaseYear     IMDBid  Runtime  \\\n",
       "0                               Ant-Man       2015.0  tt0478970    117.0   \n",
       "1               Avengers: Age of Ultron       2015.0  tt2395427    141.0   \n",
       "2                Avengers: Infinity War       2018.0  tt4154756    149.0   \n",
       "3            Captain America: Civil War       2016.0  tt3498820    147.0   \n",
       "4    Captain America: The First Avenger       2011.0  tt0458339    124.0   \n",
       "5   Captain America: The Winter Soldier       2014.0  tt1843866    136.0   \n",
       "6                        Captain Marvel       2019.0  tt4154664    123.0   \n",
       "7               Guardians of the Galaxy       2014.0  tt2015381    121.0   \n",
       "8                Spider-Man: Homecoming       2017.0  tt2250912    133.0   \n",
       "9                            Iron Man 2       2010.0  tt1228705    124.0   \n",
       "10                 Thor: The Dark World       2013.0  tt1981115    112.0   \n",
       "11                                 Thor       2011.0  tt0800369    115.0   \n",
       "12                       Thor: Ragnarok       2017.0  tt3501632    130.0   \n",
       "13       Guardians of the Galaxy Vol. 2       2017.0  tt3896198    136.0   \n",
       "14                         The Avengers       2012.0  tt0848228    143.0   \n",
       "15                        Black Panther       2018.0  tt1825683    134.0   \n",
       "\n",
       "    imdbRating  imdbVotes  Metascore    Released    BoxOffice  \n",
       "0          7.3   492948.0       64.0  2015-07-17  138002223.0  \n",
       "1          7.3   654822.0       66.0  2015-05-01  429113729.0  \n",
       "2          8.5   641255.0       68.0  2018-04-27  664987816.0  \n",
       "3          7.8   574126.0       75.0  2016-05-06  408080554.0  \n",
       "4          6.9   662101.0       66.0  2011-07-22  176636816.0  \n",
       "5          7.8   655267.0       70.0  2014-04-04  228636083.0  \n",
       "6          7.1   258034.0       64.0  2019-03-08          NaN  \n",
       "7          8.1   936430.0       76.0  2014-08-01  270592504.0  \n",
       "8          7.5   418900.0       73.0  2017-07-07  334166825.0  \n",
       "9          7.0   650168.0       57.0  2010-05-07  312057433.0  \n",
       "10         6.9   533625.0       54.0  2013-11-08  206360018.0  \n",
       "11         7.0   677686.0       57.0  2011-05-06  181015141.0  \n",
       "12         7.9   470059.0       74.0  2017-11-03  314971245.0  \n",
       "13         7.7   471312.0       67.0  2017-05-05  389804217.0  \n",
       "14         8.1  1165317.0       69.0  2012-05-04  623279547.0  \n",
       "15         7.3   501220.0       88.0  2018-02-16  501105037.0  "
      ]
     },
     "execution_count": 117,
     "metadata": {},
     "output_type": "execute_result"
    }
   ],
   "source": [
    "df"
   ]
  },
  {
   "cell_type": "code",
   "execution_count": 118,
   "metadata": {
    "ExecuteTime": {
     "end_time": "2019-05-27T17:13:23.973416Z",
     "start_time": "2019-05-27T17:13:23.966582Z"
    }
   },
   "outputs": [],
   "source": [
    "df.to_csv('../Data/Marvel_Script_Perplexity.csv')"
   ]
  }
 ],
 "metadata": {
  "kernelspec": {
   "display_name": "Python 3",
   "language": "python",
   "name": "python3"
  },
  "language_info": {
   "codemirror_mode": {
    "name": "ipython",
    "version": 3
   },
   "file_extension": ".py",
   "mimetype": "text/x-python",
   "name": "python",
   "nbconvert_exporter": "python",
   "pygments_lexer": "ipython3",
   "version": "3.6.7"
  },
  "toc": {
   "base_numbering": 1,
   "nav_menu": {},
   "number_sections": false,
   "sideBar": true,
   "skip_h1_title": false,
   "title_cell": "Table of Contents",
   "title_sidebar": "Contents",
   "toc_cell": false,
   "toc_position": {},
   "toc_section_display": true,
   "toc_window_display": false
  },
  "varInspector": {
   "cols": {
    "lenName": 16,
    "lenType": 16,
    "lenVar": 40
   },
   "kernels_config": {
    "python": {
     "delete_cmd_postfix": "",
     "delete_cmd_prefix": "del ",
     "library": "var_list.py",
     "varRefreshCmd": "print(var_dic_list())"
    },
    "r": {
     "delete_cmd_postfix": ") ",
     "delete_cmd_prefix": "rm(",
     "library": "var_list.r",
     "varRefreshCmd": "cat(var_dic_list()) "
    }
   },
   "types_to_exclude": [
    "module",
    "function",
    "builtin_function_or_method",
    "instance",
    "_Feature"
   ],
   "window_display": false
  }
 },
 "nbformat": 4,
 "nbformat_minor": 2
}
